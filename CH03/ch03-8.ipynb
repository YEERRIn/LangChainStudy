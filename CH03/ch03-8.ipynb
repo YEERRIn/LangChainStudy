{
 "cells": [
  {
   "cell_type": "code",
   "execution_count": 1,
   "metadata": {},
   "outputs": [
    {
     "data": {
      "text/plain": [
       "True"
      ]
     },
     "execution_count": 1,
     "metadata": {},
     "output_type": "execute_result"
    }
   ],
   "source": [
    "from dotenv import load_dotenv\n",
    "\n",
    "load_dotenv()"
   ]
  },
  {
   "cell_type": "code",
   "execution_count": 2,
   "metadata": {},
   "outputs": [],
   "source": [
    "from langchain_openai import ChatOpenAI\n",
    "from langchain.output_parsers import PydanticOutputParser\n",
    "from langchain_core.pydantic_v1 import BaseModel, Field\n",
    "from typing import List\n",
    "\n",
    "\n",
    "class Actor(BaseModel):\n",
    "    name: str = Field(description=\"name of an actor\")\n",
    "    film_names: List[str] = Field(\n",
    "        description=\"list of names of films they starred in\")\n",
    "\n",
    "\n",
    "actor_query = \"Generate the filmography for a random actor.\"\n",
    "\n",
    "parser = PydanticOutputParser(pydantic_object=Actor)"
   ]
  },
  {
   "cell_type": "code",
   "execution_count": 3,
   "metadata": {},
   "outputs": [
    {
     "ename": "OutputParserException",
     "evalue": "Invalid json output: {'name': 'Tom Hanks', 'film_names': ['Forrest Gump']}",
     "output_type": "error",
     "traceback": [
      "\u001b[1;31m---------------------------------------------------------------------------\u001b[0m",
      "\u001b[1;31mJSONDecodeError\u001b[0m                           Traceback (most recent call last)",
      "File \u001b[1;32mc:\\Users\\ryeon\\AppData\\Local\\Programs\\Python\\Python310\\lib\\site-packages\\langchain_core\\output_parsers\\json.py:66\u001b[0m, in \u001b[0;36mJsonOutputParser.parse_result\u001b[1;34m(self, result, partial)\u001b[0m\n\u001b[0;32m     <a href='file:///c%3A/Users/ryeon/AppData/Local/Programs/Python/Python310/lib/site-packages/langchain_core/output_parsers/json.py?line=64'>65</a>\u001b[0m \u001b[39mtry\u001b[39;00m:\n\u001b[1;32m---> <a href='file:///c%3A/Users/ryeon/AppData/Local/Programs/Python/Python310/lib/site-packages/langchain_core/output_parsers/json.py?line=65'>66</a>\u001b[0m     \u001b[39mreturn\u001b[39;00m parse_json_markdown(text)\n\u001b[0;32m     <a href='file:///c%3A/Users/ryeon/AppData/Local/Programs/Python/Python310/lib/site-packages/langchain_core/output_parsers/json.py?line=66'>67</a>\u001b[0m \u001b[39mexcept\u001b[39;00m JSONDecodeError \u001b[39mas\u001b[39;00m e:\n",
      "File \u001b[1;32mc:\\Users\\ryeon\\AppData\\Local\\Programs\\Python\\Python310\\lib\\site-packages\\langchain_core\\utils\\json.py:147\u001b[0m, in \u001b[0;36mparse_json_markdown\u001b[1;34m(json_string, parser)\u001b[0m\n\u001b[0;32m    <a href='file:///c%3A/Users/ryeon/AppData/Local/Programs/Python/Python310/lib/site-packages/langchain_core/utils/json.py?line=145'>146</a>\u001b[0m         json_str \u001b[39m=\u001b[39m match\u001b[39m.\u001b[39mgroup(\u001b[39m2\u001b[39m)\n\u001b[1;32m--> <a href='file:///c%3A/Users/ryeon/AppData/Local/Programs/Python/Python310/lib/site-packages/langchain_core/utils/json.py?line=146'>147</a>\u001b[0m \u001b[39mreturn\u001b[39;00m _parse_json(json_str, parser\u001b[39m=\u001b[39;49mparser)\n",
      "File \u001b[1;32mc:\\Users\\ryeon\\AppData\\Local\\Programs\\Python\\Python310\\lib\\site-packages\\langchain_core\\utils\\json.py:160\u001b[0m, in \u001b[0;36m_parse_json\u001b[1;34m(json_str, parser)\u001b[0m\n\u001b[0;32m    <a href='file:///c%3A/Users/ryeon/AppData/Local/Programs/Python/Python310/lib/site-packages/langchain_core/utils/json.py?line=158'>159</a>\u001b[0m \u001b[39m# Parse the JSON string into a Python dictionary\u001b[39;00m\n\u001b[1;32m--> <a href='file:///c%3A/Users/ryeon/AppData/Local/Programs/Python/Python310/lib/site-packages/langchain_core/utils/json.py?line=159'>160</a>\u001b[0m \u001b[39mreturn\u001b[39;00m parser(json_str)\n",
      "File \u001b[1;32mc:\\Users\\ryeon\\AppData\\Local\\Programs\\Python\\Python310\\lib\\site-packages\\langchain_core\\utils\\json.py:120\u001b[0m, in \u001b[0;36mparse_partial_json\u001b[1;34m(s, strict)\u001b[0m\n\u001b[0;32m    <a href='file:///c%3A/Users/ryeon/AppData/Local/Programs/Python/Python310/lib/site-packages/langchain_core/utils/json.py?line=116'>117</a>\u001b[0m \u001b[39m# If we got here, we ran out of characters to remove\u001b[39;00m\n\u001b[0;32m    <a href='file:///c%3A/Users/ryeon/AppData/Local/Programs/Python/Python310/lib/site-packages/langchain_core/utils/json.py?line=117'>118</a>\u001b[0m \u001b[39m# and still couldn't parse the string as JSON, so return the parse error\u001b[39;00m\n\u001b[0;32m    <a href='file:///c%3A/Users/ryeon/AppData/Local/Programs/Python/Python310/lib/site-packages/langchain_core/utils/json.py?line=118'>119</a>\u001b[0m \u001b[39m# for the original string.\u001b[39;00m\n\u001b[1;32m--> <a href='file:///c%3A/Users/ryeon/AppData/Local/Programs/Python/Python310/lib/site-packages/langchain_core/utils/json.py?line=119'>120</a>\u001b[0m \u001b[39mreturn\u001b[39;00m json\u001b[39m.\u001b[39;49mloads(s, strict\u001b[39m=\u001b[39;49mstrict)\n",
      "File \u001b[1;32mc:\\Users\\ryeon\\AppData\\Local\\Programs\\Python\\Python310\\lib\\json\\__init__.py:359\u001b[0m, in \u001b[0;36mloads\u001b[1;34m(s, cls, object_hook, parse_float, parse_int, parse_constant, object_pairs_hook, **kw)\u001b[0m\n\u001b[0;32m    <a href='file:///c%3A/Users/ryeon/AppData/Local/Programs/Python/Python310/lib/json/__init__.py?line=357'>358</a>\u001b[0m     kw[\u001b[39m'\u001b[39m\u001b[39mparse_constant\u001b[39m\u001b[39m'\u001b[39m] \u001b[39m=\u001b[39m parse_constant\n\u001b[1;32m--> <a href='file:///c%3A/Users/ryeon/AppData/Local/Programs/Python/Python310/lib/json/__init__.py?line=358'>359</a>\u001b[0m \u001b[39mreturn\u001b[39;00m \u001b[39mcls\u001b[39;49m(\u001b[39m*\u001b[39;49m\u001b[39m*\u001b[39;49mkw)\u001b[39m.\u001b[39;49mdecode(s)\n",
      "File \u001b[1;32mc:\\Users\\ryeon\\AppData\\Local\\Programs\\Python\\Python310\\lib\\json\\decoder.py:337\u001b[0m, in \u001b[0;36mJSONDecoder.decode\u001b[1;34m(self, s, _w)\u001b[0m\n\u001b[0;32m    <a href='file:///c%3A/Users/ryeon/AppData/Local/Programs/Python/Python310/lib/json/decoder.py?line=332'>333</a>\u001b[0m \u001b[39m\u001b[39m\u001b[39m\"\"\"Return the Python representation of ``s`` (a ``str`` instance\u001b[39;00m\n\u001b[0;32m    <a href='file:///c%3A/Users/ryeon/AppData/Local/Programs/Python/Python310/lib/json/decoder.py?line=333'>334</a>\u001b[0m \u001b[39mcontaining a JSON document).\u001b[39;00m\n\u001b[0;32m    <a href='file:///c%3A/Users/ryeon/AppData/Local/Programs/Python/Python310/lib/json/decoder.py?line=334'>335</a>\u001b[0m \n\u001b[0;32m    <a href='file:///c%3A/Users/ryeon/AppData/Local/Programs/Python/Python310/lib/json/decoder.py?line=335'>336</a>\u001b[0m \u001b[39m\"\"\"\u001b[39;00m\n\u001b[1;32m--> <a href='file:///c%3A/Users/ryeon/AppData/Local/Programs/Python/Python310/lib/json/decoder.py?line=336'>337</a>\u001b[0m obj, end \u001b[39m=\u001b[39m \u001b[39mself\u001b[39;49m\u001b[39m.\u001b[39;49mraw_decode(s, idx\u001b[39m=\u001b[39;49m_w(s, \u001b[39m0\u001b[39;49m)\u001b[39m.\u001b[39;49mend())\n\u001b[0;32m    <a href='file:///c%3A/Users/ryeon/AppData/Local/Programs/Python/Python310/lib/json/decoder.py?line=337'>338</a>\u001b[0m end \u001b[39m=\u001b[39m _w(s, end)\u001b[39m.\u001b[39mend()\n",
      "File \u001b[1;32mc:\\Users\\ryeon\\AppData\\Local\\Programs\\Python\\Python310\\lib\\json\\decoder.py:353\u001b[0m, in \u001b[0;36mJSONDecoder.raw_decode\u001b[1;34m(self, s, idx)\u001b[0m\n\u001b[0;32m    <a href='file:///c%3A/Users/ryeon/AppData/Local/Programs/Python/Python310/lib/json/decoder.py?line=351'>352</a>\u001b[0m \u001b[39mtry\u001b[39;00m:\n\u001b[1;32m--> <a href='file:///c%3A/Users/ryeon/AppData/Local/Programs/Python/Python310/lib/json/decoder.py?line=352'>353</a>\u001b[0m     obj, end \u001b[39m=\u001b[39m \u001b[39mself\u001b[39;49m\u001b[39m.\u001b[39;49mscan_once(s, idx)\n\u001b[0;32m    <a href='file:///c%3A/Users/ryeon/AppData/Local/Programs/Python/Python310/lib/json/decoder.py?line=353'>354</a>\u001b[0m \u001b[39mexcept\u001b[39;00m \u001b[39mStopIteration\u001b[39;00m \u001b[39mas\u001b[39;00m err:\n",
      "\u001b[1;31mJSONDecodeError\u001b[0m: Expecting property name enclosed in double quotes: line 1 column 2 (char 1)",
      "\nThe above exception was the direct cause of the following exception:\n",
      "\u001b[1;31mOutputParserException\u001b[0m                     Traceback (most recent call last)",
      "Cell \u001b[1;32mIn[3], line 3\u001b[0m\n\u001b[0;32m      1\u001b[0m misformatted \u001b[38;5;241m=\u001b[39m \u001b[38;5;124m\"\u001b[39m\u001b[38;5;124m{\u001b[39m\u001b[38;5;124m'\u001b[39m\u001b[38;5;124mname\u001b[39m\u001b[38;5;124m'\u001b[39m\u001b[38;5;124m: \u001b[39m\u001b[38;5;124m'\u001b[39m\u001b[38;5;124mTom Hanks\u001b[39m\u001b[38;5;124m'\u001b[39m\u001b[38;5;124m, \u001b[39m\u001b[38;5;124m'\u001b[39m\u001b[38;5;124mfilm_names\u001b[39m\u001b[38;5;124m'\u001b[39m\u001b[38;5;124m: [\u001b[39m\u001b[38;5;124m'\u001b[39m\u001b[38;5;124mForrest Gump\u001b[39m\u001b[38;5;124m'\u001b[39m\u001b[38;5;124m]}\u001b[39m\u001b[38;5;124m\"\u001b[39m\n\u001b[1;32m----> 3\u001b[0m \u001b[43mparser\u001b[49m\u001b[38;5;241;43m.\u001b[39;49m\u001b[43mparse\u001b[49m\u001b[43m(\u001b[49m\u001b[43mmisformatted\u001b[49m\u001b[43m)\u001b[49m\n",
      "File \u001b[1;32mc:\\Users\\ryeon\\AppData\\Local\\Programs\\Python\\Python310\\lib\\site-packages\\langchain_core\\output_parsers\\pydantic.py:64\u001b[0m, in \u001b[0;36mPydanticOutputParser.parse\u001b[1;34m(self, text)\u001b[0m\n\u001b[0;32m     <a href='file:///c%3A/Users/ryeon/AppData/Local/Programs/Python/Python310/lib/site-packages/langchain_core/output_parsers/pydantic.py?line=62'>63</a>\u001b[0m \u001b[39mdef\u001b[39;00m \u001b[39mparse\u001b[39m(\u001b[39mself\u001b[39m, text: \u001b[39mstr\u001b[39m) \u001b[39m-\u001b[39m\u001b[39m>\u001b[39m TBaseModel:\n\u001b[1;32m---> <a href='file:///c%3A/Users/ryeon/AppData/Local/Programs/Python/Python310/lib/site-packages/langchain_core/output_parsers/pydantic.py?line=63'>64</a>\u001b[0m     \u001b[39mreturn\u001b[39;00m \u001b[39msuper\u001b[39;49m()\u001b[39m.\u001b[39;49mparse(text)\n",
      "File \u001b[1;32mc:\\Users\\ryeon\\AppData\\Local\\Programs\\Python\\Python310\\lib\\site-packages\\langchain_core\\output_parsers\\json.py:72\u001b[0m, in \u001b[0;36mJsonOutputParser.parse\u001b[1;34m(self, text)\u001b[0m\n\u001b[0;32m     <a href='file:///c%3A/Users/ryeon/AppData/Local/Programs/Python/Python310/lib/site-packages/langchain_core/output_parsers/json.py?line=70'>71</a>\u001b[0m \u001b[39mdef\u001b[39;00m \u001b[39mparse\u001b[39m(\u001b[39mself\u001b[39m, text: \u001b[39mstr\u001b[39m) \u001b[39m-\u001b[39m\u001b[39m>\u001b[39m Any:\n\u001b[1;32m---> <a href='file:///c%3A/Users/ryeon/AppData/Local/Programs/Python/Python310/lib/site-packages/langchain_core/output_parsers/json.py?line=71'>72</a>\u001b[0m     \u001b[39mreturn\u001b[39;00m \u001b[39mself\u001b[39;49m\u001b[39m.\u001b[39;49mparse_result([Generation(text\u001b[39m=\u001b[39;49mtext)])\n",
      "File \u001b[1;32mc:\\Users\\ryeon\\AppData\\Local\\Programs\\Python\\Python310\\lib\\site-packages\\langchain_core\\output_parsers\\pydantic.py:60\u001b[0m, in \u001b[0;36mPydanticOutputParser.parse_result\u001b[1;34m(self, result, partial)\u001b[0m\n\u001b[0;32m     <a href='file:///c%3A/Users/ryeon/AppData/Local/Programs/Python/Python310/lib/site-packages/langchain_core/output_parsers/pydantic.py?line=56'>57</a>\u001b[0m \u001b[39mdef\u001b[39;00m \u001b[39mparse_result\u001b[39m(\n\u001b[0;32m     <a href='file:///c%3A/Users/ryeon/AppData/Local/Programs/Python/Python310/lib/site-packages/langchain_core/output_parsers/pydantic.py?line=57'>58</a>\u001b[0m     \u001b[39mself\u001b[39m, result: List[Generation], \u001b[39m*\u001b[39m, partial: \u001b[39mbool\u001b[39m \u001b[39m=\u001b[39m \u001b[39mFalse\u001b[39;00m\n\u001b[0;32m     <a href='file:///c%3A/Users/ryeon/AppData/Local/Programs/Python/Python310/lib/site-packages/langchain_core/output_parsers/pydantic.py?line=58'>59</a>\u001b[0m ) \u001b[39m-\u001b[39m\u001b[39m>\u001b[39m TBaseModel:\n\u001b[1;32m---> <a href='file:///c%3A/Users/ryeon/AppData/Local/Programs/Python/Python310/lib/site-packages/langchain_core/output_parsers/pydantic.py?line=59'>60</a>\u001b[0m     json_object \u001b[39m=\u001b[39m \u001b[39msuper\u001b[39;49m()\u001b[39m.\u001b[39;49mparse_result(result)\n\u001b[0;32m     <a href='file:///c%3A/Users/ryeon/AppData/Local/Programs/Python/Python310/lib/site-packages/langchain_core/output_parsers/pydantic.py?line=60'>61</a>\u001b[0m     \u001b[39mreturn\u001b[39;00m \u001b[39mself\u001b[39m\u001b[39m.\u001b[39m_parse_obj(json_object)\n",
      "File \u001b[1;32mc:\\Users\\ryeon\\AppData\\Local\\Programs\\Python\\Python310\\lib\\site-packages\\langchain_core\\output_parsers\\json.py:69\u001b[0m, in \u001b[0;36mJsonOutputParser.parse_result\u001b[1;34m(self, result, partial)\u001b[0m\n\u001b[0;32m     <a href='file:///c%3A/Users/ryeon/AppData/Local/Programs/Python/Python310/lib/site-packages/langchain_core/output_parsers/json.py?line=66'>67</a>\u001b[0m \u001b[39mexcept\u001b[39;00m JSONDecodeError \u001b[39mas\u001b[39;00m e:\n\u001b[0;32m     <a href='file:///c%3A/Users/ryeon/AppData/Local/Programs/Python/Python310/lib/site-packages/langchain_core/output_parsers/json.py?line=67'>68</a>\u001b[0m     msg \u001b[39m=\u001b[39m \u001b[39mf\u001b[39m\u001b[39m\"\u001b[39m\u001b[39mInvalid json output: \u001b[39m\u001b[39m{\u001b[39;00mtext\u001b[39m}\u001b[39;00m\u001b[39m\"\u001b[39m\n\u001b[1;32m---> <a href='file:///c%3A/Users/ryeon/AppData/Local/Programs/Python/Python310/lib/site-packages/langchain_core/output_parsers/json.py?line=68'>69</a>\u001b[0m     \u001b[39mraise\u001b[39;00m OutputParserException(msg, llm_output\u001b[39m=\u001b[39mtext) \u001b[39mfrom\u001b[39;00m \u001b[39me\u001b[39;00m\n",
      "\u001b[1;31mOutputParserException\u001b[0m: Invalid json output: {'name': 'Tom Hanks', 'film_names': ['Forrest Gump']}"
     ]
    }
   ],
   "source": [
    "misformatted = \"{'name': 'Tom Hanks', 'film_names': ['Forrest Gump']}\"\n",
    "\n",
    "parser.parse(misformatted)"
   ]
  },
  {
   "cell_type": "code",
   "execution_count": 4,
   "metadata": {},
   "outputs": [],
   "source": [
    "from langchain.output_parsers import OutputFixingParser\n",
    "\n",
    "new_parser = OutputFixingParser.from_llm(parser=parser, llm=ChatOpenAI())"
   ]
  },
  {
   "cell_type": "code",
   "execution_count": 5,
   "metadata": {},
   "outputs": [
    {
     "data": {
      "text/plain": [
       "\"{'name': 'Tom Hanks', 'film_names': ['Forrest Gump']}\""
      ]
     },
     "execution_count": 5,
     "metadata": {},
     "output_type": "execute_result"
    }
   ],
   "source": [
    "misformatted"
   ]
  },
  {
   "cell_type": "code",
   "execution_count": 6,
   "metadata": {},
   "outputs": [],
   "source": [
    "actor = new_parser.parse(misformatted)"
   ]
  },
  {
   "cell_type": "code",
   "execution_count": 7,
   "metadata": {},
   "outputs": [
    {
     "data": {
      "text/plain": [
       "Actor(name='Tom Hanks', film_names=['Forrest Gump'])"
      ]
     },
     "execution_count": 7,
     "metadata": {},
     "output_type": "execute_result"
    }
   ],
   "source": [
    "actor"
   ]
  }
 ],
 "metadata": {
  "interpreter": {
   "hash": "a092fd226f6fc88450915dcb73abf6d49f4bd6515daca38907c3a18dfe5f9dd0"
  },
  "kernelspec": {
   "display_name": "Python 3.10.6 64-bit",
   "language": "python",
   "name": "python3"
  },
  "language_info": {
   "codemirror_mode": {
    "name": "ipython",
    "version": 3
   },
   "file_extension": ".py",
   "mimetype": "text/x-python",
   "name": "python",
   "nbconvert_exporter": "python",
   "pygments_lexer": "ipython3",
   "version": "3.10.6"
  },
  "orig_nbformat": 4
 },
 "nbformat": 4,
 "nbformat_minor": 2
}
