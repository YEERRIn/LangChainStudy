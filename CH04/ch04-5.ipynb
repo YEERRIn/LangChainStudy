{
 "cells": [
  {
   "cell_type": "code",
   "execution_count": 1,
   "metadata": {},
   "outputs": [
    {
     "name": "stdout",
     "output_type": "stream",
     "text": [
      "Note: you may need to restart the kernel to use updated packages.\n"
     ]
    },
    {
     "name": "stderr",
     "output_type": "stream",
     "text": [
      "WARNING: Ignoring invalid distribution -pencv-python (c:\\users\\ryeon\\appdata\\local\\programs\\python\\python310\\lib\\site-packages)\n",
      "WARNING: Ignoring invalid distribution -pencv-python (c:\\users\\ryeon\\appdata\\local\\programs\\python\\python310\\lib\\site-packages)\n",
      "\n",
      "[notice] A new release of pip is available: 24.0 -> 24.1.2\n",
      "[notice] To update, run: python.exe -m pip install --upgrade pip\n"
     ]
    }
   ],
   "source": [
    "%pip install --upgrade --quiet  langchain-google-genai pillow"
   ]
  },
  {
   "cell_type": "code",
   "execution_count": 3,
   "metadata": {},
   "outputs": [
    {
     "data": {
      "text/plain": [
       "True"
      ]
     },
     "execution_count": 3,
     "metadata": {},
     "output_type": "execute_result"
    }
   ],
   "source": [
    "from dotenv import load_dotenv\n",
    "\n",
    "load_dotenv()"
   ]
  },
  {
   "cell_type": "code",
   "execution_count": 4,
   "metadata": {},
   "outputs": [],
   "source": [
    "from langchain_google_genai import ChatGoogleGenerativeAI"
   ]
  },
  {
   "cell_type": "code",
   "execution_count": 5,
   "metadata": {},
   "outputs": [
    {
     "name": "stdout",
     "output_type": "stream",
     "text": [
      "자연어처리(NLP)는 컴퓨터가 인간 언어를 이해하고 처리할 수 있도록 만드는 인공지능(AI)의 한 분야입니다.\n",
      "\n",
      "NLP의 주요 목표는 다음과 같습니다.\n",
      "\n",
      "* **텍스트 분류:** 텍스트를 특정 카테고리로 분류\n",
      "* **정서 분석:** 텍스트의 감정적 지향 파악\n",
      "* **이름 엔티티 인식:** 텍스트에서 사람, 장소, 조직과 같은 이름 엔티티 식별\n",
      "* **요약:** 긴 텍스트에서 주요 요점 파악\n",
      "* **기계 번역:** 한 언어에서 다른 언어로 텍스트 변환\n",
      "\n",
      "NLP는 다음과 같은 다양한 응용 분야에서 사용됩니다.\n",
      "\n",
      "* 검색 엔진\n",
      "* 채터봇\n",
      "* 소셜 미디어 분석\n",
      "* 의료 진단\n",
      "* 재무 예측\n"
     ]
    }
   ],
   "source": [
    "llm = ChatGoogleGenerativeAI(model=\"gemini-pro\")\n",
    "result = llm.invoke(\"자연어처리에 대해서 간략히 설명해 줘\")\n",
    "print(result.content) "
   ]
  },
  {
   "cell_type": "code",
   "execution_count": 6,
   "metadata": {},
   "outputs": [
    {
     "name": "stderr",
     "output_type": "stream",
     "text": [
      "c:\\Users\\ryeon\\AppData\\Local\\Programs\\Python\\Python310\\lib\\site-packages\\langchain_google_genai\\chat_models.py:352: UserWarning: Convert_system_message_to_human will be deprecated!\n",
      "  warnings.warn(\"Convert_system_message_to_human will be deprecated!\")\n"
     ]
    },
    {
     "data": {
      "text/plain": [
       "AIMessage(content='Yes', response_metadata={'prompt_feedback': {'block_reason': 0, 'safety_ratings': []}, 'finish_reason': 'STOP', 'safety_ratings': [{'category': 'HARM_CATEGORY_SEXUALLY_EXPLICIT', 'probability': 'NEGLIGIBLE', 'blocked': False}, {'category': 'HARM_CATEGORY_HATE_SPEECH', 'probability': 'NEGLIGIBLE', 'blocked': False}, {'category': 'HARM_CATEGORY_HARASSMENT', 'probability': 'NEGLIGIBLE', 'blocked': False}, {'category': 'HARM_CATEGORY_DANGEROUS_CONTENT', 'probability': 'NEGLIGIBLE', 'blocked': False}]}, id='run-61f332bd-8dd9-4c4f-ab6e-23c511373cce-0', usage_metadata={'input_tokens': 12, 'output_tokens': 1, 'total_tokens': 13})"
      ]
     },
     "execution_count": 6,
     "metadata": {},
     "output_type": "execute_result"
    }
   ],
   "source": [
    "from langchain_core.messages import HumanMessage, SystemMessage\n",
    "\n",
    "model = ChatGoogleGenerativeAI(\n",
    "    model=\"gemini-pro\",  \n",
    "    convert_system_message_to_human=True,  \n",
    ")\n",
    "\n",
    "model.invoke(\n",
    "    [\n",
    "        SystemMessage(content=\"Answer only yes or no.\"),\n",
    "        HumanMessage(content=\"Is apple a fruit?\"),\n",
    "    ]\n",
    ")\n"
   ]
  },
  {
   "cell_type": "code",
   "execution_count": 7,
   "metadata": {},
   "outputs": [
    {
     "name": "stdout",
     "output_type": "stream",
     "text": [
      "**구글의 기업 역사**\n",
      "\n",
      "**초창기 (1996-2004)**\n",
      "\n",
      "* 1996년: 스탠포드 대학 박사 과정생인 래리 페이지와 세르게이 브린이 구글(Google)을 설립.\n",
      "* 1998년: Google 검색 엔진 공개.\n",
      "* 2000년: Google AdWords 광고 플랫폼 출시.\n",
      "* 2004년: Google 최초 공개 매도 (IPO).\n",
      "\n",
      "**확장기 (2005-2015)**\n",
      "\n",
      "* 2005년: Google 지도, Google 지메일, Google 어스 등 여러 제품 출시.\n",
      "* 2006년: YouTube 인수.\n",
      "* 2008년: Google 크롬 브라우저 출시.\n",
      "* 2010년: Google 안드로이드 운영체제 출시.\n",
      "* 2011년: 모토로라 모빌리티 인수.\n",
      "\n",
      "**다각화기 (2016-현재)**\n",
      "\n",
      "* 2015년: 알파벳(Alphabet)이 모회사로 설립됨.\n",
      "* 2016년: Waymo 자율주행 자동차 회사 설립.\n",
      "* 2017년: Google 렌즈 출시.\n",
      "* 2019년: Stadia 클라우드 게임 플랫폼 출시.\n",
      "* 2020년: COVID-19 팬데믹 동안 원격 근무 및 디지털화 가속화.\n",
      "* 현재: 인공지능, 클라우드 컴퓨팅, 헬스케어 분야 지속적인 투자 및 확장.\n",
      "\n",
      "**주요 인수 및 파트너십**\n",
      "\n",
      "* YouTube (2006)\n",
      "* 모토로라 모빌리티 (2011)\n",
      "* Nest Labs (2014)\n",
      "* Fitbit (2021)\n",
      "* 파트너십: IBM, 페이스북, 타타 컨설턴시 서비스\n",
      "\n",
      "**재정 성과**\n",
      "\n",
      "* 2023년 현재 시가 총액 약 1조 1천억 달러.\n",
      "* 2022년 매출 약 2830억 달러.\n",
      "* 주요 수익원: 디지털 광고, 클라우드 서비스, 하드웨어 판매.\n",
      "\n",
      "**문화와 영향**\n",
      "\n",
      "* \"10% 시간\" 정책을 통해 직원이 자신의 관심사를 추구할 수 있도록 함.\n",
      "* 혁신과 기술 발전의 선구자로 인정됨.\n",
      "* 사회적 책임과 환경 보호에 대한 약속.\n",
      "* \"구글하세요\"는 동사의 강력한 브랜드와 검색 엔진의 널리 된 사용으로 인해 일상적인 용어가 됨."
     ]
    }
   ],
   "source": [
    "for chunk in llm.stream(\"Google 의 기업 역사에 대해서 markdown 형식으로 작성해 줘\"):\n",
    "    print(chunk.content, end=\"\", flush=True) "
   ]
  },
  {
   "cell_type": "code",
   "execution_count": 8,
   "metadata": {},
   "outputs": [],
   "source": [
    "from langchain_google_genai import (\n",
    "    ChatGoogleGenerativeAI,\n",
    "    HarmBlockThreshold,\n",
    "    HarmCategory,\n",
    ")\n",
    "\n",
    "llm = ChatGoogleGenerativeAI(\n",
    "    model=\"gemini-pro\",\n",
    "    safety_settings={\n",
    "        HarmCategory.HARM_CATEGORY_DANGEROUS_CONTENT: HarmBlockThreshold.BLOCK_NONE,\n",
    "    },\n",
    ")\n"
   ]
  },
  {
   "cell_type": "code",
   "execution_count": 9,
   "metadata": {},
   "outputs": [
    {
     "name": "stdout",
     "output_type": "stream",
     "text": [
      "4\n",
      "8\n"
     ]
    }
   ],
   "source": [
    "from langchain_google_genai import (\n",
    "    ChatGoogleGenerativeAI,\n",
    "    HarmBlockThreshold,\n",
    "    HarmCategory,\n",
    ")\n",
    "\n",
    "llm = ChatGoogleGenerativeAI(\n",
    "    model=\"gemini-pro\",\n",
    "    safety_settings={\n",
    "        HarmCategory.HARM_CATEGORY_SEXUALLY_EXPLICIT: HarmBlockThreshold.BLOCK_NONE,\n",
    "        HarmCategory.HARM_CATEGORY_HATE_SPEECH: HarmBlockThreshold.BLOCK_NONE,\n",
    "        HarmCategory.HARM_CATEGORY_HARASSMENT: HarmBlockThreshold.BLOCK_NONE,\n",
    "        HarmCategory.HARM_CATEGORY_DANGEROUS_CONTENT: HarmBlockThreshold.BLOCK_NONE,\n",
    "    },\n",
    ")\n",
    "\n",
    "results = llm.batch(\n",
    "    [\n",
    "        \"2+2 의 계산 결과는?\", \n",
    "        \"3+5 의 계산 결과는?\",\n",
    "    ]\n",
    ")\n",
    "\n",
    "for res in results:\n",
    "    print(res.content) \n"
   ]
  },
  {
   "cell_type": "code",
   "execution_count": 10,
   "metadata": {},
   "outputs": [
    {
     "data": {
      "image/jpeg": "[encoded data removed]",
      "text/plain": [
       "<IPython.core.display.Image object>"
      ]
     },
     "execution_count": 10,
     "metadata": {},
     "output_type": "execute_result"
    }
   ],
   "source": [
    "import requests\n",
    "from IPython.display import Image\n",
    "\n",
    "image_url = \"https://picsum.photos/seed/picsum/300/300\"  \n",
    "content = requests.get(image_url).content  \n",
    "Image(content)  \n"
   ]
  },
  {
   "cell_type": "code",
   "execution_count": null,
   "metadata": {},
   "outputs": [],
   "source": [
    "import base64\n",
    "from io import BytesIO\n",
    "\n",
    "from IPython.display import HTML, display\n",
    "from PIL import Image\n",
    "\n",
    "\n",
    "def convert_to_base64(pil_image):\n",
    "    \"\"\"\n",
    "    PIL 이미지를 Base64로 인코딩된 문자열로 변환합니다.\n",
    "\n",
    "    :param pil_image: PIL 이미지\n",
    "    :return: 크기 조정된 Base64 문자열\n",
    "    \"\"\"\n",
    "\n",
    "    buffered = BytesIO()\n",
    "    pil_image.save(buffered, format=\"JPEG\") \n",
    "    img_str = base64.b64encode(buffered.getvalue()).decode(\"utf-8\")\n",
    "    return img_str\n",
    "\n",
    "\n",
    "def plt_img_base64(img_base64):\n",
    "    \"\"\"\n",
    "    Base64로 인코딩된 문자열을 이미지로 표시합니다.\n",
    "\n",
    "    :param img_base64:  Base64 문자열\n",
    "    \"\"\"\n",
    "  \n",
    "    image_html = f'<img src=\"data:image/jpeg;base64,{img_base64}\" />'\n",
    "   \n",
    "    display(HTML(image_html))\n",
    "\n",
    "\n",
    "file_path = \"./images/jeju-beach.jpg\"\n",
    "pil_image = Image.open(file_path)\n",
    "\n",
    "image_b64 = convert_to_base64(pil_image)\n",
    "plt_img_base64(image_b64)\n"
   ]
  },
  {
   "cell_type": "code",
   "execution_count": null,
   "metadata": {},
   "outputs": [],
   "source": [
    "from langchain_core.messages import HumanMessage\n",
    "from langchain_google_genai import ChatGoogleGenerativeAI\n",
    "\n",
    "llm = ChatGoogleGenerativeAI(model=\"gemini-pro-vision\")\n",
    "message = HumanMessage(  \n",
    "    content=[\n",
    "        {\n",
    "            \"type\": \"text\", \n",
    "            \"text\": \"What's in this image?\",  \n",
    "        },  \n",
    "        {\"type\": \"image_url\", \"image_url\": f\"data:image/jpeg;base64,{image_b64}\"},\n",
    "    ]\n",
    ")\n",
    "llm.invoke([message])  "
   ]
  }
 ],
 "metadata": {
  "interpreter": {
   "hash": "a092fd226f6fc88450915dcb73abf6d49f4bd6515daca38907c3a18dfe5f9dd0"
  },
  "kernelspec": {
   "display_name": "Python 3.10.6 64-bit",
   "language": "python",
   "name": "python3"
  },
  "language_info": {
   "codemirror_mode": {
    "name": "ipython",
    "version": 3
   },
   "file_extension": ".py",
   "mimetype": "text/x-python",
   "name": "python",
   "nbconvert_exporter": "python",
   "pygments_lexer": "ipython3",
   "version": "3.10.6"
  },
  "orig_nbformat": 4
 },
 "nbformat": 4,
 "nbformat_minor": 2
}
