{
 "cells": [
  {
   "cell_type": "code",
   "execution_count": 13,
   "metadata": {},
   "outputs": [
    {
     "data": {
      "text/plain": [
       "True"
      ]
     },
     "execution_count": 13,
     "metadata": {},
     "output_type": "execute_result"
    }
   ],
   "source": [
    "from dotenv import load_dotenv\n",
    "\n",
    "load_dotenv()"
   ]
  },
  {
   "cell_type": "code",
   "execution_count": 2,
   "metadata": {},
   "outputs": [
    {
     "name": "stdout",
     "output_type": "stream",
     "text": [
      "LangSmith 추적을 시작합니다.\n",
      "[프로젝트명]\n",
      "CH04-Models\n"
     ]
    }
   ],
   "source": [
    "from langchain_teddynote import logging\n",
    "from langchain_teddynote.messages import stream_response\n",
    "\n",
    "logging.langsmith(\"CH04-Models\")"
   ]
  },
  {
   "cell_type": "code",
   "execution_count": 3,
   "metadata": {},
   "outputs": [
    {
     "name": "stdout",
     "output_type": "stream",
     "text": [
      "사랑은 매우 복잡하고 다면적인 감정으로, 사람마다 다르게 느끼고 표현할 수 있습니다. 일반적으로 사랑은 깊은 애정, 헌신, 그리고 상호 존중을 포함하는 감정입니다. 사랑은 가족, 친구, 연인, 그리고 심지어는 자신에 대한 사랑 등 다양한 형태로 나타날 수 있습니다.\n",
      "\n",
      "사랑은 기쁨과 행복을 가져다줄 수 있지만, 때로는 고통과 슬픔도 동반할 수 있습니다. 사랑은 이해와 용서, 그리고 서로를 지지하는 마음에서 비롯되며, 이는 관계를 더욱 깊고 의미 있게 만듭니다.\n",
      "\n",
      "사랑에 대한 정의는 철학, 문학, 심리학 등 다양한 분야에서 다르게 해석될 수 있으며, 각 개인의 경험과 가치관에 따라 그 의미가 달라질 수 있습니다."
     ]
    }
   ],
   "source": [
    "from langchain_openai import ChatOpenAI\n",
    "\n",
    "gpt = ChatOpenAI(\n",
    "    temperature=0,\n",
    "    model_name=\"gpt-4o\", \n",
    ")\n",
    "\n",
    "answer = gpt.stream(\"사랑이 뭔가요?\")\n",
    "\n",
    "stream_response(answer)"
   ]
  },
  {
   "cell_type": "code",
   "execution_count": 4,
   "metadata": {},
   "outputs": [],
   "source": [
    "from langchain_openai import ChatOpenAI\n",
    "\n",
    "llm = ChatOpenAI()"
   ]
  },
  {
   "cell_type": "code",
   "execution_count": 5,
   "metadata": {},
   "outputs": [
    {
     "data": {
      "text/plain": [
       "PromptTemplate(input_variables=['country'], template='{country} 에 대해서 200자 내외로 요약해줘')"
      ]
     },
     "execution_count": 5,
     "metadata": {},
     "output_type": "execute_result"
    }
   ],
   "source": [
    "from langchain.prompts import PromptTemplate\n",
    "\n",
    "prompt = PromptTemplate.from_template(\"{country} 에 대해서 200자 내외로 요약해줘\")\n",
    "prompt"
   ]
  },
  {
   "cell_type": "code",
   "execution_count": 6,
   "metadata": {},
   "outputs": [],
   "source": [
    "chain = prompt | llm"
   ]
  },
  {
   "cell_type": "code",
   "execution_count": 7,
   "metadata": {},
   "outputs": [
    {
     "name": "stdout",
     "output_type": "stream",
     "text": [
      "CPU times: total: 62.5 ms\n",
      "Wall time: 3.98 s\n",
      "한국은 동아시아에 위치한 고도로 발전한 선진국가로, 문화, 역사, 음식 등 다양한 측면에서 매력적인 나라이다. 고대부터 현대까지 이어지는 다채로운 역사와 전통 문화가 많은 관심을 받고 있다. 또한 K-pop, K-drama 등의 문화 콘텐츠로 세계적인 인기를 누리고 있으며, IT 기술과 자동차 산업 등의 분야에서도 선두적인 위치를 차지하고 있다. 또한 한국은 자연경관이 아름다운 나라로 유명하며, 맛있는 음식과 현대적인 도시들이 많이 인기를 끌고 있다. 현재는 세계적인 강국으로 발전하고 있으며, 국제 사회에서도 중요한 역할을 하고 있다.\n"
     ]
    }
   ],
   "source": [
    "%time response = chain.invoke({\"country\": \"한국\"})\n",
    "print(response.content)"
   ]
  },
  {
   "cell_type": "code",
   "execution_count": 8,
   "metadata": {},
   "outputs": [],
   "source": [
    "from langchain.cache import SQLiteCache\n",
    "from langchain.globals import set_llm_cache\n",
    "\n",
    "set_llm_cache(SQLiteCache(database_path=\"my_llm_cache.db\"))"
   ]
  },
  {
   "cell_type": "code",
   "execution_count": 9,
   "metadata": {},
   "outputs": [
    {
     "ename": "TypeError",
     "evalue": "string indices must be integers",
     "output_type": "error",
     "traceback": [
      "\u001b[1;31m---------------------------------------------------------------------------\u001b[0m",
      "\u001b[1;31mTypeError\u001b[0m                                 Traceback (most recent call last)",
      "File \u001b[1;32m<timed exec>:1\u001b[0m\n",
      "File \u001b[1;32mc:\\Users\\ryeon\\AppData\\Local\\Programs\\Python\\Python310\\lib\\site-packages\\langchain_core\\runnables\\base.py:2505\u001b[0m, in \u001b[0;36mRunnableSequence.invoke\u001b[1;34m(self, input, config, **kwargs)\u001b[0m\n\u001b[0;32m   <a href='file:///c%3A/Users/ryeon/AppData/Local/Programs/Python/Python310/lib/site-packages/langchain_core/runnables/base.py?line=2502'>2503</a>\u001b[0m             \u001b[39minput\u001b[39m \u001b[39m=\u001b[39m step\u001b[39m.\u001b[39minvoke(\u001b[39minput\u001b[39m, config, \u001b[39m*\u001b[39m\u001b[39m*\u001b[39mkwargs)\n\u001b[0;32m   <a href='file:///c%3A/Users/ryeon/AppData/Local/Programs/Python/Python310/lib/site-packages/langchain_core/runnables/base.py?line=2503'>2504</a>\u001b[0m         \u001b[39melse\u001b[39;00m:\n\u001b[1;32m-> <a href='file:///c%3A/Users/ryeon/AppData/Local/Programs/Python/Python310/lib/site-packages/langchain_core/runnables/base.py?line=2504'>2505</a>\u001b[0m             \u001b[39minput\u001b[39m \u001b[39m=\u001b[39m step\u001b[39m.\u001b[39;49minvoke(\u001b[39minput\u001b[39;49m, config)\n\u001b[0;32m   <a href='file:///c%3A/Users/ryeon/AppData/Local/Programs/Python/Python310/lib/site-packages/langchain_core/runnables/base.py?line=2505'>2506</a>\u001b[0m \u001b[39m# finish the root run\u001b[39;00m\n\u001b[0;32m   <a href='file:///c%3A/Users/ryeon/AppData/Local/Programs/Python/Python310/lib/site-packages/langchain_core/runnables/base.py?line=2506'>2507</a>\u001b[0m \u001b[39mexcept\u001b[39;00m \u001b[39mBaseException\u001b[39;00m \u001b[39mas\u001b[39;00m e:\n",
      "File \u001b[1;32mc:\\Users\\ryeon\\AppData\\Local\\Programs\\Python\\Python310\\lib\\site-packages\\langchain_core\\language_models\\chat_models.py:248\u001b[0m, in \u001b[0;36mBaseChatModel.invoke\u001b[1;34m(self, input, config, stop, **kwargs)\u001b[0m\n\u001b[0;32m    <a href='file:///c%3A/Users/ryeon/AppData/Local/Programs/Python/Python310/lib/site-packages/langchain_core/language_models/chat_models.py?line=236'>237</a>\u001b[0m \u001b[39mdef\u001b[39;00m \u001b[39minvoke\u001b[39m(\n\u001b[0;32m    <a href='file:///c%3A/Users/ryeon/AppData/Local/Programs/Python/Python310/lib/site-packages/langchain_core/language_models/chat_models.py?line=237'>238</a>\u001b[0m     \u001b[39mself\u001b[39m,\n\u001b[0;32m    <a href='file:///c%3A/Users/ryeon/AppData/Local/Programs/Python/Python310/lib/site-packages/langchain_core/language_models/chat_models.py?line=238'>239</a>\u001b[0m     \u001b[39minput\u001b[39m: LanguageModelInput,\n\u001b[1;32m   (...)\u001b[0m\n\u001b[0;32m    <a href='file:///c%3A/Users/ryeon/AppData/Local/Programs/Python/Python310/lib/site-packages/langchain_core/language_models/chat_models.py?line=242'>243</a>\u001b[0m     \u001b[39m*\u001b[39m\u001b[39m*\u001b[39mkwargs: Any,\n\u001b[0;32m    <a href='file:///c%3A/Users/ryeon/AppData/Local/Programs/Python/Python310/lib/site-packages/langchain_core/language_models/chat_models.py?line=243'>244</a>\u001b[0m ) \u001b[39m-\u001b[39m\u001b[39m>\u001b[39m BaseMessage:\n\u001b[0;32m    <a href='file:///c%3A/Users/ryeon/AppData/Local/Programs/Python/Python310/lib/site-packages/langchain_core/language_models/chat_models.py?line=244'>245</a>\u001b[0m     config \u001b[39m=\u001b[39m ensure_config(config)\n\u001b[0;32m    <a href='file:///c%3A/Users/ryeon/AppData/Local/Programs/Python/Python310/lib/site-packages/langchain_core/language_models/chat_models.py?line=245'>246</a>\u001b[0m     \u001b[39mreturn\u001b[39;00m cast(\n\u001b[0;32m    <a href='file:///c%3A/Users/ryeon/AppData/Local/Programs/Python/Python310/lib/site-packages/langchain_core/language_models/chat_models.py?line=246'>247</a>\u001b[0m         ChatGeneration,\n\u001b[1;32m--> <a href='file:///c%3A/Users/ryeon/AppData/Local/Programs/Python/Python310/lib/site-packages/langchain_core/language_models/chat_models.py?line=247'>248</a>\u001b[0m         \u001b[39mself\u001b[39m\u001b[39m.\u001b[39mgenerate_prompt(\n\u001b[0;32m    <a href='file:///c%3A/Users/ryeon/AppData/Local/Programs/Python/Python310/lib/site-packages/langchain_core/language_models/chat_models.py?line=248'>249</a>\u001b[0m             [\u001b[39mself\u001b[39m\u001b[39m.\u001b[39m_convert_input(\u001b[39minput\u001b[39m)],\n\u001b[0;32m    <a href='file:///c%3A/Users/ryeon/AppData/Local/Programs/Python/Python310/lib/site-packages/langchain_core/language_models/chat_models.py?line=249'>250</a>\u001b[0m             stop\u001b[39m=\u001b[39mstop,\n\u001b[0;32m    <a href='file:///c%3A/Users/ryeon/AppData/Local/Programs/Python/Python310/lib/site-packages/langchain_core/language_models/chat_models.py?line=250'>251</a>\u001b[0m             callbacks\u001b[39m=\u001b[39mconfig\u001b[39m.\u001b[39mget(\u001b[39m\"\u001b[39m\u001b[39mcallbacks\u001b[39m\u001b[39m\"\u001b[39m),\n\u001b[0;32m    <a href='file:///c%3A/Users/ryeon/AppData/Local/Programs/Python/Python310/lib/site-packages/langchain_core/language_models/chat_models.py?line=251'>252</a>\u001b[0m             tags\u001b[39m=\u001b[39mconfig\u001b[39m.\u001b[39mget(\u001b[39m\"\u001b[39m\u001b[39mtags\u001b[39m\u001b[39m\"\u001b[39m),\n\u001b[0;32m    <a href='file:///c%3A/Users/ryeon/AppData/Local/Programs/Python/Python310/lib/site-packages/langchain_core/language_models/chat_models.py?line=252'>253</a>\u001b[0m             metadata\u001b[39m=\u001b[39mconfig\u001b[39m.\u001b[39mget(\u001b[39m\"\u001b[39m\u001b[39mmetadata\u001b[39m\u001b[39m\"\u001b[39m),\n\u001b[0;32m    <a href='file:///c%3A/Users/ryeon/AppData/Local/Programs/Python/Python310/lib/site-packages/langchain_core/language_models/chat_models.py?line=253'>254</a>\u001b[0m             run_name\u001b[39m=\u001b[39mconfig\u001b[39m.\u001b[39mget(\u001b[39m\"\u001b[39m\u001b[39mrun_name\u001b[39m\u001b[39m\"\u001b[39m),\n\u001b[0;32m    <a href='file:///c%3A/Users/ryeon/AppData/Local/Programs/Python/Python310/lib/site-packages/langchain_core/language_models/chat_models.py?line=254'>255</a>\u001b[0m             run_id\u001b[39m=\u001b[39mconfig\u001b[39m.\u001b[39mpop(\u001b[39m\"\u001b[39m\u001b[39mrun_id\u001b[39m\u001b[39m\"\u001b[39m, \u001b[39mNone\u001b[39;00m),\n\u001b[0;32m    <a href='file:///c%3A/Users/ryeon/AppData/Local/Programs/Python/Python310/lib/site-packages/langchain_core/language_models/chat_models.py?line=255'>256</a>\u001b[0m             \u001b[39m*\u001b[39m\u001b[39m*\u001b[39mkwargs,\n\u001b[0;32m    <a href='file:///c%3A/Users/ryeon/AppData/Local/Programs/Python/Python310/lib/site-packages/langchain_core/language_models/chat_models.py?line=256'>257</a>\u001b[0m         )\u001b[39m.\u001b[39mgenerations[\u001b[39m0\u001b[39m][\u001b[39m0\u001b[39m],\n\u001b[0;32m    <a href='file:///c%3A/Users/ryeon/AppData/Local/Programs/Python/Python310/lib/site-packages/langchain_core/language_models/chat_models.py?line=257'>258</a>\u001b[0m     )\u001b[39m.\u001b[39mmessage\n",
      "File \u001b[1;32mc:\\Users\\ryeon\\AppData\\Local\\Programs\\Python\\Python310\\lib\\site-packages\\langchain_core\\language_models\\chat_models.py:681\u001b[0m, in \u001b[0;36mBaseChatModel.generate_prompt\u001b[1;34m(self, prompts, stop, callbacks, **kwargs)\u001b[0m\n\u001b[0;32m    <a href='file:///c%3A/Users/ryeon/AppData/Local/Programs/Python/Python310/lib/site-packages/langchain_core/language_models/chat_models.py?line=672'>673</a>\u001b[0m \u001b[39mdef\u001b[39;00m \u001b[39mgenerate_prompt\u001b[39m(\n\u001b[0;32m    <a href='file:///c%3A/Users/ryeon/AppData/Local/Programs/Python/Python310/lib/site-packages/langchain_core/language_models/chat_models.py?line=673'>674</a>\u001b[0m     \u001b[39mself\u001b[39m,\n\u001b[0;32m    <a href='file:///c%3A/Users/ryeon/AppData/Local/Programs/Python/Python310/lib/site-packages/langchain_core/language_models/chat_models.py?line=674'>675</a>\u001b[0m     prompts: List[PromptValue],\n\u001b[1;32m   (...)\u001b[0m\n\u001b[0;32m    <a href='file:///c%3A/Users/ryeon/AppData/Local/Programs/Python/Python310/lib/site-packages/langchain_core/language_models/chat_models.py?line=677'>678</a>\u001b[0m     \u001b[39m*\u001b[39m\u001b[39m*\u001b[39mkwargs: Any,\n\u001b[0;32m    <a href='file:///c%3A/Users/ryeon/AppData/Local/Programs/Python/Python310/lib/site-packages/langchain_core/language_models/chat_models.py?line=678'>679</a>\u001b[0m ) \u001b[39m-\u001b[39m\u001b[39m>\u001b[39m LLMResult:\n\u001b[0;32m    <a href='file:///c%3A/Users/ryeon/AppData/Local/Programs/Python/Python310/lib/site-packages/langchain_core/language_models/chat_models.py?line=679'>680</a>\u001b[0m     prompt_messages \u001b[39m=\u001b[39m [p\u001b[39m.\u001b[39mto_messages() \u001b[39mfor\u001b[39;00m p \u001b[39min\u001b[39;00m prompts]\n\u001b[1;32m--> <a href='file:///c%3A/Users/ryeon/AppData/Local/Programs/Python/Python310/lib/site-packages/langchain_core/language_models/chat_models.py?line=680'>681</a>\u001b[0m     \u001b[39mreturn\u001b[39;00m \u001b[39mself\u001b[39m\u001b[39m.\u001b[39mgenerate(prompt_messages, stop\u001b[39m=\u001b[39mstop, callbacks\u001b[39m=\u001b[39mcallbacks, \u001b[39m*\u001b[39m\u001b[39m*\u001b[39mkwargs)\n",
      "File \u001b[1;32mc:\\Users\\ryeon\\AppData\\Local\\Programs\\Python\\Python310\\lib\\site-packages\\langchain_core\\language_models\\chat_models.py:538\u001b[0m, in \u001b[0;36mBaseChatModel.generate\u001b[1;34m(self, messages, stop, callbacks, tags, metadata, run_name, run_id, **kwargs)\u001b[0m\n\u001b[0;32m    <a href='file:///c%3A/Users/ryeon/AppData/Local/Programs/Python/Python310/lib/site-packages/langchain_core/language_models/chat_models.py?line=535'>536</a>\u001b[0m         \u001b[39mif\u001b[39;00m run_managers:\n\u001b[0;32m    <a href='file:///c%3A/Users/ryeon/AppData/Local/Programs/Python/Python310/lib/site-packages/langchain_core/language_models/chat_models.py?line=536'>537</a>\u001b[0m             run_managers[i]\u001b[39m.\u001b[39mon_llm_error(e, response\u001b[39m=\u001b[39mLLMResult(generations\u001b[39m=\u001b[39m[]))\n\u001b[1;32m--> <a href='file:///c%3A/Users/ryeon/AppData/Local/Programs/Python/Python310/lib/site-packages/langchain_core/language_models/chat_models.py?line=537'>538</a>\u001b[0m         \u001b[39mraise\u001b[39;00m e\n\u001b[0;32m    <a href='file:///c%3A/Users/ryeon/AppData/Local/Programs/Python/Python310/lib/site-packages/langchain_core/language_models/chat_models.py?line=538'>539</a>\u001b[0m flattened_outputs \u001b[39m=\u001b[39m [\n\u001b[0;32m    <a href='file:///c%3A/Users/ryeon/AppData/Local/Programs/Python/Python310/lib/site-packages/langchain_core/language_models/chat_models.py?line=539'>540</a>\u001b[0m     LLMResult(generations\u001b[39m=\u001b[39m[res\u001b[39m.\u001b[39mgenerations], llm_output\u001b[39m=\u001b[39mres\u001b[39m.\u001b[39mllm_output)  \u001b[39m# type: ignore[list-item]\u001b[39;00m\n\u001b[0;32m    <a href='file:///c%3A/Users/ryeon/AppData/Local/Programs/Python/Python310/lib/site-packages/langchain_core/language_models/chat_models.py?line=540'>541</a>\u001b[0m     \u001b[39mfor\u001b[39;00m res \u001b[39min\u001b[39;00m results\n\u001b[0;32m    <a href='file:///c%3A/Users/ryeon/AppData/Local/Programs/Python/Python310/lib/site-packages/langchain_core/language_models/chat_models.py?line=541'>542</a>\u001b[0m ]\n\u001b[0;32m    <a href='file:///c%3A/Users/ryeon/AppData/Local/Programs/Python/Python310/lib/site-packages/langchain_core/language_models/chat_models.py?line=542'>543</a>\u001b[0m llm_output \u001b[39m=\u001b[39m \u001b[39mself\u001b[39m\u001b[39m.\u001b[39m_combine_llm_outputs([res\u001b[39m.\u001b[39mllm_output \u001b[39mfor\u001b[39;00m res \u001b[39min\u001b[39;00m results])\n",
      "File \u001b[1;32mc:\\Users\\ryeon\\AppData\\Local\\Programs\\Python\\Python310\\lib\\site-packages\\langchain_core\\language_models\\chat_models.py:528\u001b[0m, in \u001b[0;36mBaseChatModel.generate\u001b[1;34m(self, messages, stop, callbacks, tags, metadata, run_name, run_id, **kwargs)\u001b[0m\n\u001b[0;32m    <a href='file:///c%3A/Users/ryeon/AppData/Local/Programs/Python/Python310/lib/site-packages/langchain_core/language_models/chat_models.py?line=524'>525</a>\u001b[0m \u001b[39mfor\u001b[39;00m i, m \u001b[39min\u001b[39;00m \u001b[39menumerate\u001b[39m(messages):\n\u001b[0;32m    <a href='file:///c%3A/Users/ryeon/AppData/Local/Programs/Python/Python310/lib/site-packages/langchain_core/language_models/chat_models.py?line=525'>526</a>\u001b[0m     \u001b[39mtry\u001b[39;00m:\n\u001b[0;32m    <a href='file:///c%3A/Users/ryeon/AppData/Local/Programs/Python/Python310/lib/site-packages/langchain_core/language_models/chat_models.py?line=526'>527</a>\u001b[0m         results\u001b[39m.\u001b[39mappend(\n\u001b[1;32m--> <a href='file:///c%3A/Users/ryeon/AppData/Local/Programs/Python/Python310/lib/site-packages/langchain_core/language_models/chat_models.py?line=527'>528</a>\u001b[0m             \u001b[39mself\u001b[39m\u001b[39m.\u001b[39m_generate_with_cache(\n\u001b[0;32m    <a href='file:///c%3A/Users/ryeon/AppData/Local/Programs/Python/Python310/lib/site-packages/langchain_core/language_models/chat_models.py?line=528'>529</a>\u001b[0m                 m,\n\u001b[0;32m    <a href='file:///c%3A/Users/ryeon/AppData/Local/Programs/Python/Python310/lib/site-packages/langchain_core/language_models/chat_models.py?line=529'>530</a>\u001b[0m                 stop\u001b[39m=\u001b[39mstop,\n\u001b[0;32m    <a href='file:///c%3A/Users/ryeon/AppData/Local/Programs/Python/Python310/lib/site-packages/langchain_core/language_models/chat_models.py?line=530'>531</a>\u001b[0m                 run_manager\u001b[39m=\u001b[39mrun_managers[i] \u001b[39mif\u001b[39;00m run_managers \u001b[39melse\u001b[39;00m \u001b[39mNone\u001b[39;00m,\n\u001b[0;32m    <a href='file:///c%3A/Users/ryeon/AppData/Local/Programs/Python/Python310/lib/site-packages/langchain_core/language_models/chat_models.py?line=531'>532</a>\u001b[0m                 \u001b[39m*\u001b[39m\u001b[39m*\u001b[39mkwargs,\n\u001b[0;32m    <a href='file:///c%3A/Users/ryeon/AppData/Local/Programs/Python/Python310/lib/site-packages/langchain_core/language_models/chat_models.py?line=532'>533</a>\u001b[0m             )\n\u001b[0;32m    <a href='file:///c%3A/Users/ryeon/AppData/Local/Programs/Python/Python310/lib/site-packages/langchain_core/language_models/chat_models.py?line=533'>534</a>\u001b[0m         )\n\u001b[0;32m    <a href='file:///c%3A/Users/ryeon/AppData/Local/Programs/Python/Python310/lib/site-packages/langchain_core/language_models/chat_models.py?line=534'>535</a>\u001b[0m     \u001b[39mexcept\u001b[39;00m \u001b[39mBaseException\u001b[39;00m \u001b[39mas\u001b[39;00m e:\n\u001b[0;32m    <a href='file:///c%3A/Users/ryeon/AppData/Local/Programs/Python/Python310/lib/site-packages/langchain_core/language_models/chat_models.py?line=535'>536</a>\u001b[0m         \u001b[39mif\u001b[39;00m run_managers:\n",
      "File \u001b[1;32mc:\\Users\\ryeon\\AppData\\Local\\Programs\\Python\\Python310\\lib\\site-packages\\langchain_core\\language_models\\chat_models.py:712\u001b[0m, in \u001b[0;36mBaseChatModel._generate_with_cache\u001b[1;34m(self, messages, stop, run_manager, **kwargs)\u001b[0m\n\u001b[0;32m    <a href='file:///c%3A/Users/ryeon/AppData/Local/Programs/Python/Python310/lib/site-packages/langchain_core/language_models/chat_models.py?line=709'>710</a>\u001b[0m \u001b[39mif\u001b[39;00m check_cache:\n\u001b[0;32m    <a href='file:///c%3A/Users/ryeon/AppData/Local/Programs/Python/Python310/lib/site-packages/langchain_core/language_models/chat_models.py?line=710'>711</a>\u001b[0m     \u001b[39mif\u001b[39;00m llm_cache:\n\u001b[1;32m--> <a href='file:///c%3A/Users/ryeon/AppData/Local/Programs/Python/Python310/lib/site-packages/langchain_core/language_models/chat_models.py?line=711'>712</a>\u001b[0m         llm_string \u001b[39m=\u001b[39m \u001b[39mself\u001b[39m\u001b[39m.\u001b[39m_get_llm_string(stop\u001b[39m=\u001b[39mstop, \u001b[39m*\u001b[39m\u001b[39m*\u001b[39mkwargs)\n\u001b[0;32m    <a href='file:///c%3A/Users/ryeon/AppData/Local/Programs/Python/Python310/lib/site-packages/langchain_core/language_models/chat_models.py?line=712'>713</a>\u001b[0m         prompt \u001b[39m=\u001b[39m dumps(messages)\n\u001b[0;32m    <a href='file:///c%3A/Users/ryeon/AppData/Local/Programs/Python/Python310/lib/site-packages/langchain_core/language_models/chat_models.py?line=713'>714</a>\u001b[0m         cache_val \u001b[39m=\u001b[39m llm_cache\u001b[39m.\u001b[39mlookup(prompt, llm_string)\n",
      "File \u001b[1;32mc:\\Users\\ryeon\\AppData\\Local\\Programs\\Python\\Python310\\lib\\site-packages\\langchain_core\\language_models\\chat_models.py:455\u001b[0m, in \u001b[0;36mBaseChatModel._get_llm_string\u001b[1;34m(self, stop, **kwargs)\u001b[0m\n\u001b[0;32m    <a href='file:///c%3A/Users/ryeon/AppData/Local/Programs/Python/Python310/lib/site-packages/langchain_core/language_models/chat_models.py?line=451'>452</a>\u001b[0m \u001b[39m# This code is not super efficient as it goes back and forth between\u001b[39;00m\n\u001b[0;32m    <a href='file:///c%3A/Users/ryeon/AppData/Local/Programs/Python/Python310/lib/site-packages/langchain_core/language_models/chat_models.py?line=452'>453</a>\u001b[0m \u001b[39m# json and dict.\u001b[39;00m\n\u001b[0;32m    <a href='file:///c%3A/Users/ryeon/AppData/Local/Programs/Python/Python310/lib/site-packages/langchain_core/language_models/chat_models.py?line=453'>454</a>\u001b[0m serialized_repr \u001b[39m=\u001b[39m dumpd(\u001b[39mself\u001b[39m)\n\u001b[1;32m--> <a href='file:///c%3A/Users/ryeon/AppData/Local/Programs/Python/Python310/lib/site-packages/langchain_core/language_models/chat_models.py?line=454'>455</a>\u001b[0m _cleanup_llm_representation(serialized_repr, \u001b[39m1\u001b[39;49m)\n\u001b[0;32m    <a href='file:///c%3A/Users/ryeon/AppData/Local/Programs/Python/Python310/lib/site-packages/langchain_core/language_models/chat_models.py?line=455'>456</a>\u001b[0m llm_string \u001b[39m=\u001b[39m json\u001b[39m.\u001b[39mdumps(serialized_repr, sort_keys\u001b[39m=\u001b[39m\u001b[39mTrue\u001b[39;00m)\n\u001b[0;32m    <a href='file:///c%3A/Users/ryeon/AppData/Local/Programs/Python/Python310/lib/site-packages/langchain_core/language_models/chat_models.py?line=456'>457</a>\u001b[0m \u001b[39mreturn\u001b[39;00m llm_string \u001b[39m+\u001b[39m \u001b[39m\"\u001b[39m\u001b[39m---\u001b[39m\u001b[39m\"\u001b[39m \u001b[39m+\u001b[39m param_string\n",
      "File \u001b[1;32mc:\\Users\\ryeon\\AppData\\Local\\Programs\\Python\\Python310\\lib\\site-packages\\langchain_core\\language_models\\chat_models.py:1239\u001b[0m, in \u001b[0;36m_cleanup_llm_representation\u001b[1;34m(serialized, depth)\u001b[0m\n\u001b[0;32m   <a href='file:///c%3A/Users/ryeon/AppData/Local/Programs/Python/Python310/lib/site-packages/langchain_core/language_models/chat_models.py?line=1235'>1236</a>\u001b[0m kwargs \u001b[39m=\u001b[39m serialized[\u001b[39m\"\u001b[39m\u001b[39mkwargs\u001b[39m\u001b[39m\"\u001b[39m]\n\u001b[0;32m   <a href='file:///c%3A/Users/ryeon/AppData/Local/Programs/Python/Python310/lib/site-packages/langchain_core/language_models/chat_models.py?line=1237'>1238</a>\u001b[0m \u001b[39mfor\u001b[39;00m value \u001b[39min\u001b[39;00m kwargs\u001b[39m.\u001b[39mvalues():\n\u001b[1;32m-> <a href='file:///c%3A/Users/ryeon/AppData/Local/Programs/Python/Python310/lib/site-packages/langchain_core/language_models/chat_models.py?line=1238'>1239</a>\u001b[0m     _cleanup_llm_representation(value, depth \u001b[39m+\u001b[39;49m \u001b[39m1\u001b[39;49m)\n",
      "File \u001b[1;32mc:\\Users\\ryeon\\AppData\\Local\\Programs\\Python\\Python310\\lib\\site-packages\\langchain_core\\language_models\\chat_models.py:1229\u001b[0m, in \u001b[0;36m_cleanup_llm_representation\u001b[1;34m(serialized, depth)\u001b[0m\n\u001b[0;32m   <a href='file:///c%3A/Users/ryeon/AppData/Local/Programs/Python/Python310/lib/site-packages/langchain_core/language_models/chat_models.py?line=1226'>1227</a>\u001b[0m \u001b[39mif\u001b[39;00m depth \u001b[39m>\u001b[39m \u001b[39m100\u001b[39m:  \u001b[39m# Don't cooperate for pathological cases\u001b[39;00m\n\u001b[0;32m   <a href='file:///c%3A/Users/ryeon/AppData/Local/Programs/Python/Python310/lib/site-packages/langchain_core/language_models/chat_models.py?line=1227'>1228</a>\u001b[0m     \u001b[39mreturn\u001b[39;00m\n\u001b[1;32m-> <a href='file:///c%3A/Users/ryeon/AppData/Local/Programs/Python/Python310/lib/site-packages/langchain_core/language_models/chat_models.py?line=1228'>1229</a>\u001b[0m \u001b[39mif\u001b[39;00m serialized[\u001b[39m\"\u001b[39;49m\u001b[39mtype\u001b[39;49m\u001b[39m\"\u001b[39;49m] \u001b[39m==\u001b[39m \u001b[39m\"\u001b[39m\u001b[39mnot_implemented\u001b[39m\u001b[39m\"\u001b[39m \u001b[39mand\u001b[39;00m \u001b[39m\"\u001b[39m\u001b[39mrepr\u001b[39m\u001b[39m\"\u001b[39m \u001b[39min\u001b[39;00m serialized:\n\u001b[0;32m   <a href='file:///c%3A/Users/ryeon/AppData/Local/Programs/Python/Python310/lib/site-packages/langchain_core/language_models/chat_models.py?line=1229'>1230</a>\u001b[0m     \u001b[39mdel\u001b[39;00m serialized[\u001b[39m\"\u001b[39m\u001b[39mrepr\u001b[39m\u001b[39m\"\u001b[39m]\n\u001b[0;32m   <a href='file:///c%3A/Users/ryeon/AppData/Local/Programs/Python/Python310/lib/site-packages/langchain_core/language_models/chat_models.py?line=1231'>1232</a>\u001b[0m \u001b[39mif\u001b[39;00m \u001b[39m\"\u001b[39m\u001b[39mgraph\u001b[39m\u001b[39m\"\u001b[39m \u001b[39min\u001b[39;00m serialized:\n",
      "\u001b[1;31mTypeError\u001b[0m: string indices must be integers"
     ]
    },
    {
     "name": "stdout",
     "output_type": "stream",
     "text": [
      "한국은 동아시아에 위치한 고도로 발전한 선진국가로, 문화, 역사, 음식 등 다양한 측면에서 매력적인 나라이다. 고대부터 현대까지 이어지는 다채로운 역사와 전통 문화가 많은 관심을 받고 있다. 또한 K-pop, K-drama 등의 문화 콘텐츠로 세계적인 인기를 누리고 있으며, IT 기술과 자동차 산업 등의 분야에서도 선두적인 위치를 차지하고 있다. 또한 한국은 자연경관이 아름다운 나라로 유명하며, 맛있는 음식과 현대적인 도시들이 많이 인기를 끌고 있다. 현재는 세계적인 강국으로 발전하고 있으며, 국제 사회에서도 중요한 역할을 하고 있다.\n"
     ]
    }
   ],
   "source": [
    "%time response = chain.invoke({\"country\": \"한국\"})\n",
    "print(response.content)"
   ]
  },
  {
   "cell_type": "code",
   "execution_count": 10,
   "metadata": {},
   "outputs": [],
   "source": [
    "from langchain.callbacks import get_openai_callback\n",
    "from langchain_openai import ChatOpenAI"
   ]
  },
  {
   "cell_type": "code",
   "execution_count": 11,
   "metadata": {},
   "outputs": [],
   "source": [
    "llm = ChatOpenAI(model_name=\"gpt-4\")"
   ]
  },
  {
   "cell_type": "code",
   "execution_count": 14,
   "metadata": {},
   "outputs": [
    {
     "ename": "TypeError",
     "evalue": "string indices must be integers",
     "output_type": "error",
     "traceback": [
      "\u001b[1;31m---------------------------------------------------------------------------\u001b[0m",
      "\u001b[1;31mTypeError\u001b[0m                                 Traceback (most recent call last)",
      "Cell \u001b[1;32mIn[14], line 2\u001b[0m\n\u001b[0;32m      1\u001b[0m \u001b[38;5;28;01mwith\u001b[39;00m get_openai_callback() \u001b[38;5;28;01mas\u001b[39;00m cb:\n\u001b[1;32m----> 2\u001b[0m     result \u001b[38;5;241m=\u001b[39m \u001b[43mllm\u001b[49m\u001b[38;5;241;43m.\u001b[39;49m\u001b[43minvoke\u001b[49m\u001b[43m(\u001b[49m\u001b[38;5;124;43m\"\u001b[39;49m\u001b[38;5;124;43m대한민국의 수도는 어디야?\u001b[39;49m\u001b[38;5;124;43m\"\u001b[39;49m\u001b[43m)\u001b[49m\n\u001b[0;32m      3\u001b[0m     \u001b[38;5;28mprint\u001b[39m(cb)\n",
      "File \u001b[1;32mc:\\Users\\ryeon\\AppData\\Local\\Programs\\Python\\Python310\\lib\\site-packages\\langchain_core\\language_models\\chat_models.py:248\u001b[0m, in \u001b[0;36mBaseChatModel.invoke\u001b[1;34m(self, input, config, stop, **kwargs)\u001b[0m\n\u001b[0;32m    <a href='file:///c%3A/Users/ryeon/AppData/Local/Programs/Python/Python310/lib/site-packages/langchain_core/language_models/chat_models.py?line=236'>237</a>\u001b[0m \u001b[39mdef\u001b[39;00m \u001b[39minvoke\u001b[39m(\n\u001b[0;32m    <a href='file:///c%3A/Users/ryeon/AppData/Local/Programs/Python/Python310/lib/site-packages/langchain_core/language_models/chat_models.py?line=237'>238</a>\u001b[0m     \u001b[39mself\u001b[39m,\n\u001b[0;32m    <a href='file:///c%3A/Users/ryeon/AppData/Local/Programs/Python/Python310/lib/site-packages/langchain_core/language_models/chat_models.py?line=238'>239</a>\u001b[0m     \u001b[39minput\u001b[39m: LanguageModelInput,\n\u001b[1;32m   (...)\u001b[0m\n\u001b[0;32m    <a href='file:///c%3A/Users/ryeon/AppData/Local/Programs/Python/Python310/lib/site-packages/langchain_core/language_models/chat_models.py?line=242'>243</a>\u001b[0m     \u001b[39m*\u001b[39m\u001b[39m*\u001b[39mkwargs: Any,\n\u001b[0;32m    <a href='file:///c%3A/Users/ryeon/AppData/Local/Programs/Python/Python310/lib/site-packages/langchain_core/language_models/chat_models.py?line=243'>244</a>\u001b[0m ) \u001b[39m-\u001b[39m\u001b[39m>\u001b[39m BaseMessage:\n\u001b[0;32m    <a href='file:///c%3A/Users/ryeon/AppData/Local/Programs/Python/Python310/lib/site-packages/langchain_core/language_models/chat_models.py?line=244'>245</a>\u001b[0m     config \u001b[39m=\u001b[39m ensure_config(config)\n\u001b[0;32m    <a href='file:///c%3A/Users/ryeon/AppData/Local/Programs/Python/Python310/lib/site-packages/langchain_core/language_models/chat_models.py?line=245'>246</a>\u001b[0m     \u001b[39mreturn\u001b[39;00m cast(\n\u001b[0;32m    <a href='file:///c%3A/Users/ryeon/AppData/Local/Programs/Python/Python310/lib/site-packages/langchain_core/language_models/chat_models.py?line=246'>247</a>\u001b[0m         ChatGeneration,\n\u001b[1;32m--> <a href='file:///c%3A/Users/ryeon/AppData/Local/Programs/Python/Python310/lib/site-packages/langchain_core/language_models/chat_models.py?line=247'>248</a>\u001b[0m         \u001b[39mself\u001b[39m\u001b[39m.\u001b[39mgenerate_prompt(\n\u001b[0;32m    <a href='file:///c%3A/Users/ryeon/AppData/Local/Programs/Python/Python310/lib/site-packages/langchain_core/language_models/chat_models.py?line=248'>249</a>\u001b[0m             [\u001b[39mself\u001b[39m\u001b[39m.\u001b[39m_convert_input(\u001b[39minput\u001b[39m)],\n\u001b[0;32m    <a href='file:///c%3A/Users/ryeon/AppData/Local/Programs/Python/Python310/lib/site-packages/langchain_core/language_models/chat_models.py?line=249'>250</a>\u001b[0m             stop\u001b[39m=\u001b[39mstop,\n\u001b[0;32m    <a href='file:///c%3A/Users/ryeon/AppData/Local/Programs/Python/Python310/lib/site-packages/langchain_core/language_models/chat_models.py?line=250'>251</a>\u001b[0m             callbacks\u001b[39m=\u001b[39mconfig\u001b[39m.\u001b[39mget(\u001b[39m\"\u001b[39m\u001b[39mcallbacks\u001b[39m\u001b[39m\"\u001b[39m),\n\u001b[0;32m    <a href='file:///c%3A/Users/ryeon/AppData/Local/Programs/Python/Python310/lib/site-packages/langchain_core/language_models/chat_models.py?line=251'>252</a>\u001b[0m             tags\u001b[39m=\u001b[39mconfig\u001b[39m.\u001b[39mget(\u001b[39m\"\u001b[39m\u001b[39mtags\u001b[39m\u001b[39m\"\u001b[39m),\n\u001b[0;32m    <a href='file:///c%3A/Users/ryeon/AppData/Local/Programs/Python/Python310/lib/site-packages/langchain_core/language_models/chat_models.py?line=252'>253</a>\u001b[0m             metadata\u001b[39m=\u001b[39mconfig\u001b[39m.\u001b[39mget(\u001b[39m\"\u001b[39m\u001b[39mmetadata\u001b[39m\u001b[39m\"\u001b[39m),\n\u001b[0;32m    <a href='file:///c%3A/Users/ryeon/AppData/Local/Programs/Python/Python310/lib/site-packages/langchain_core/language_models/chat_models.py?line=253'>254</a>\u001b[0m             run_name\u001b[39m=\u001b[39mconfig\u001b[39m.\u001b[39mget(\u001b[39m\"\u001b[39m\u001b[39mrun_name\u001b[39m\u001b[39m\"\u001b[39m),\n\u001b[0;32m    <a href='file:///c%3A/Users/ryeon/AppData/Local/Programs/Python/Python310/lib/site-packages/langchain_core/language_models/chat_models.py?line=254'>255</a>\u001b[0m             run_id\u001b[39m=\u001b[39mconfig\u001b[39m.\u001b[39mpop(\u001b[39m\"\u001b[39m\u001b[39mrun_id\u001b[39m\u001b[39m\"\u001b[39m, \u001b[39mNone\u001b[39;00m),\n\u001b[0;32m    <a href='file:///c%3A/Users/ryeon/AppData/Local/Programs/Python/Python310/lib/site-packages/langchain_core/language_models/chat_models.py?line=255'>256</a>\u001b[0m             \u001b[39m*\u001b[39m\u001b[39m*\u001b[39mkwargs,\n\u001b[0;32m    <a href='file:///c%3A/Users/ryeon/AppData/Local/Programs/Python/Python310/lib/site-packages/langchain_core/language_models/chat_models.py?line=256'>257</a>\u001b[0m         )\u001b[39m.\u001b[39mgenerations[\u001b[39m0\u001b[39m][\u001b[39m0\u001b[39m],\n\u001b[0;32m    <a href='file:///c%3A/Users/ryeon/AppData/Local/Programs/Python/Python310/lib/site-packages/langchain_core/language_models/chat_models.py?line=257'>258</a>\u001b[0m     )\u001b[39m.\u001b[39mmessage\n",
      "File \u001b[1;32mc:\\Users\\ryeon\\AppData\\Local\\Programs\\Python\\Python310\\lib\\site-packages\\langchain_core\\language_models\\chat_models.py:681\u001b[0m, in \u001b[0;36mBaseChatModel.generate_prompt\u001b[1;34m(self, prompts, stop, callbacks, **kwargs)\u001b[0m\n\u001b[0;32m    <a href='file:///c%3A/Users/ryeon/AppData/Local/Programs/Python/Python310/lib/site-packages/langchain_core/language_models/chat_models.py?line=672'>673</a>\u001b[0m \u001b[39mdef\u001b[39;00m \u001b[39mgenerate_prompt\u001b[39m(\n\u001b[0;32m    <a href='file:///c%3A/Users/ryeon/AppData/Local/Programs/Python/Python310/lib/site-packages/langchain_core/language_models/chat_models.py?line=673'>674</a>\u001b[0m     \u001b[39mself\u001b[39m,\n\u001b[0;32m    <a href='file:///c%3A/Users/ryeon/AppData/Local/Programs/Python/Python310/lib/site-packages/langchain_core/language_models/chat_models.py?line=674'>675</a>\u001b[0m     prompts: List[PromptValue],\n\u001b[1;32m   (...)\u001b[0m\n\u001b[0;32m    <a href='file:///c%3A/Users/ryeon/AppData/Local/Programs/Python/Python310/lib/site-packages/langchain_core/language_models/chat_models.py?line=677'>678</a>\u001b[0m     \u001b[39m*\u001b[39m\u001b[39m*\u001b[39mkwargs: Any,\n\u001b[0;32m    <a href='file:///c%3A/Users/ryeon/AppData/Local/Programs/Python/Python310/lib/site-packages/langchain_core/language_models/chat_models.py?line=678'>679</a>\u001b[0m ) \u001b[39m-\u001b[39m\u001b[39m>\u001b[39m LLMResult:\n\u001b[0;32m    <a href='file:///c%3A/Users/ryeon/AppData/Local/Programs/Python/Python310/lib/site-packages/langchain_core/language_models/chat_models.py?line=679'>680</a>\u001b[0m     prompt_messages \u001b[39m=\u001b[39m [p\u001b[39m.\u001b[39mto_messages() \u001b[39mfor\u001b[39;00m p \u001b[39min\u001b[39;00m prompts]\n\u001b[1;32m--> <a href='file:///c%3A/Users/ryeon/AppData/Local/Programs/Python/Python310/lib/site-packages/langchain_core/language_models/chat_models.py?line=680'>681</a>\u001b[0m     \u001b[39mreturn\u001b[39;00m \u001b[39mself\u001b[39m\u001b[39m.\u001b[39mgenerate(prompt_messages, stop\u001b[39m=\u001b[39mstop, callbacks\u001b[39m=\u001b[39mcallbacks, \u001b[39m*\u001b[39m\u001b[39m*\u001b[39mkwargs)\n",
      "File \u001b[1;32mc:\\Users\\ryeon\\AppData\\Local\\Programs\\Python\\Python310\\lib\\site-packages\\langchain_core\\language_models\\chat_models.py:538\u001b[0m, in \u001b[0;36mBaseChatModel.generate\u001b[1;34m(self, messages, stop, callbacks, tags, metadata, run_name, run_id, **kwargs)\u001b[0m\n\u001b[0;32m    <a href='file:///c%3A/Users/ryeon/AppData/Local/Programs/Python/Python310/lib/site-packages/langchain_core/language_models/chat_models.py?line=535'>536</a>\u001b[0m         \u001b[39mif\u001b[39;00m run_managers:\n\u001b[0;32m    <a href='file:///c%3A/Users/ryeon/AppData/Local/Programs/Python/Python310/lib/site-packages/langchain_core/language_models/chat_models.py?line=536'>537</a>\u001b[0m             run_managers[i]\u001b[39m.\u001b[39mon_llm_error(e, response\u001b[39m=\u001b[39mLLMResult(generations\u001b[39m=\u001b[39m[]))\n\u001b[1;32m--> <a href='file:///c%3A/Users/ryeon/AppData/Local/Programs/Python/Python310/lib/site-packages/langchain_core/language_models/chat_models.py?line=537'>538</a>\u001b[0m         \u001b[39mraise\u001b[39;00m e\n\u001b[0;32m    <a href='file:///c%3A/Users/ryeon/AppData/Local/Programs/Python/Python310/lib/site-packages/langchain_core/language_models/chat_models.py?line=538'>539</a>\u001b[0m flattened_outputs \u001b[39m=\u001b[39m [\n\u001b[0;32m    <a href='file:///c%3A/Users/ryeon/AppData/Local/Programs/Python/Python310/lib/site-packages/langchain_core/language_models/chat_models.py?line=539'>540</a>\u001b[0m     LLMResult(generations\u001b[39m=\u001b[39m[res\u001b[39m.\u001b[39mgenerations], llm_output\u001b[39m=\u001b[39mres\u001b[39m.\u001b[39mllm_output)  \u001b[39m# type: ignore[list-item]\u001b[39;00m\n\u001b[0;32m    <a href='file:///c%3A/Users/ryeon/AppData/Local/Programs/Python/Python310/lib/site-packages/langchain_core/language_models/chat_models.py?line=540'>541</a>\u001b[0m     \u001b[39mfor\u001b[39;00m res \u001b[39min\u001b[39;00m results\n\u001b[0;32m    <a href='file:///c%3A/Users/ryeon/AppData/Local/Programs/Python/Python310/lib/site-packages/langchain_core/language_models/chat_models.py?line=541'>542</a>\u001b[0m ]\n\u001b[0;32m    <a href='file:///c%3A/Users/ryeon/AppData/Local/Programs/Python/Python310/lib/site-packages/langchain_core/language_models/chat_models.py?line=542'>543</a>\u001b[0m llm_output \u001b[39m=\u001b[39m \u001b[39mself\u001b[39m\u001b[39m.\u001b[39m_combine_llm_outputs([res\u001b[39m.\u001b[39mllm_output \u001b[39mfor\u001b[39;00m res \u001b[39min\u001b[39;00m results])\n",
      "File \u001b[1;32mc:\\Users\\ryeon\\AppData\\Local\\Programs\\Python\\Python310\\lib\\site-packages\\langchain_core\\language_models\\chat_models.py:528\u001b[0m, in \u001b[0;36mBaseChatModel.generate\u001b[1;34m(self, messages, stop, callbacks, tags, metadata, run_name, run_id, **kwargs)\u001b[0m\n\u001b[0;32m    <a href='file:///c%3A/Users/ryeon/AppData/Local/Programs/Python/Python310/lib/site-packages/langchain_core/language_models/chat_models.py?line=524'>525</a>\u001b[0m \u001b[39mfor\u001b[39;00m i, m \u001b[39min\u001b[39;00m \u001b[39menumerate\u001b[39m(messages):\n\u001b[0;32m    <a href='file:///c%3A/Users/ryeon/AppData/Local/Programs/Python/Python310/lib/site-packages/langchain_core/language_models/chat_models.py?line=525'>526</a>\u001b[0m     \u001b[39mtry\u001b[39;00m:\n\u001b[0;32m    <a href='file:///c%3A/Users/ryeon/AppData/Local/Programs/Python/Python310/lib/site-packages/langchain_core/language_models/chat_models.py?line=526'>527</a>\u001b[0m         results\u001b[39m.\u001b[39mappend(\n\u001b[1;32m--> <a href='file:///c%3A/Users/ryeon/AppData/Local/Programs/Python/Python310/lib/site-packages/langchain_core/language_models/chat_models.py?line=527'>528</a>\u001b[0m             \u001b[39mself\u001b[39m\u001b[39m.\u001b[39m_generate_with_cache(\n\u001b[0;32m    <a href='file:///c%3A/Users/ryeon/AppData/Local/Programs/Python/Python310/lib/site-packages/langchain_core/language_models/chat_models.py?line=528'>529</a>\u001b[0m                 m,\n\u001b[0;32m    <a href='file:///c%3A/Users/ryeon/AppData/Local/Programs/Python/Python310/lib/site-packages/langchain_core/language_models/chat_models.py?line=529'>530</a>\u001b[0m                 stop\u001b[39m=\u001b[39mstop,\n\u001b[0;32m    <a href='file:///c%3A/Users/ryeon/AppData/Local/Programs/Python/Python310/lib/site-packages/langchain_core/language_models/chat_models.py?line=530'>531</a>\u001b[0m                 run_manager\u001b[39m=\u001b[39mrun_managers[i] \u001b[39mif\u001b[39;00m run_managers \u001b[39melse\u001b[39;00m \u001b[39mNone\u001b[39;00m,\n\u001b[0;32m    <a href='file:///c%3A/Users/ryeon/AppData/Local/Programs/Python/Python310/lib/site-packages/langchain_core/language_models/chat_models.py?line=531'>532</a>\u001b[0m                 \u001b[39m*\u001b[39m\u001b[39m*\u001b[39mkwargs,\n\u001b[0;32m    <a href='file:///c%3A/Users/ryeon/AppData/Local/Programs/Python/Python310/lib/site-packages/langchain_core/language_models/chat_models.py?line=532'>533</a>\u001b[0m             )\n\u001b[0;32m    <a href='file:///c%3A/Users/ryeon/AppData/Local/Programs/Python/Python310/lib/site-packages/langchain_core/language_models/chat_models.py?line=533'>534</a>\u001b[0m         )\n\u001b[0;32m    <a href='file:///c%3A/Users/ryeon/AppData/Local/Programs/Python/Python310/lib/site-packages/langchain_core/language_models/chat_models.py?line=534'>535</a>\u001b[0m     \u001b[39mexcept\u001b[39;00m \u001b[39mBaseException\u001b[39;00m \u001b[39mas\u001b[39;00m e:\n\u001b[0;32m    <a href='file:///c%3A/Users/ryeon/AppData/Local/Programs/Python/Python310/lib/site-packages/langchain_core/language_models/chat_models.py?line=535'>536</a>\u001b[0m         \u001b[39mif\u001b[39;00m run_managers:\n",
      "File \u001b[1;32mc:\\Users\\ryeon\\AppData\\Local\\Programs\\Python\\Python310\\lib\\site-packages\\langchain_core\\language_models\\chat_models.py:712\u001b[0m, in \u001b[0;36mBaseChatModel._generate_with_cache\u001b[1;34m(self, messages, stop, run_manager, **kwargs)\u001b[0m\n\u001b[0;32m    <a href='file:///c%3A/Users/ryeon/AppData/Local/Programs/Python/Python310/lib/site-packages/langchain_core/language_models/chat_models.py?line=709'>710</a>\u001b[0m \u001b[39mif\u001b[39;00m check_cache:\n\u001b[0;32m    <a href='file:///c%3A/Users/ryeon/AppData/Local/Programs/Python/Python310/lib/site-packages/langchain_core/language_models/chat_models.py?line=710'>711</a>\u001b[0m     \u001b[39mif\u001b[39;00m llm_cache:\n\u001b[1;32m--> <a href='file:///c%3A/Users/ryeon/AppData/Local/Programs/Python/Python310/lib/site-packages/langchain_core/language_models/chat_models.py?line=711'>712</a>\u001b[0m         llm_string \u001b[39m=\u001b[39m \u001b[39mself\u001b[39m\u001b[39m.\u001b[39m_get_llm_string(stop\u001b[39m=\u001b[39mstop, \u001b[39m*\u001b[39m\u001b[39m*\u001b[39mkwargs)\n\u001b[0;32m    <a href='file:///c%3A/Users/ryeon/AppData/Local/Programs/Python/Python310/lib/site-packages/langchain_core/language_models/chat_models.py?line=712'>713</a>\u001b[0m         prompt \u001b[39m=\u001b[39m dumps(messages)\n\u001b[0;32m    <a href='file:///c%3A/Users/ryeon/AppData/Local/Programs/Python/Python310/lib/site-packages/langchain_core/language_models/chat_models.py?line=713'>714</a>\u001b[0m         cache_val \u001b[39m=\u001b[39m llm_cache\u001b[39m.\u001b[39mlookup(prompt, llm_string)\n",
      "File \u001b[1;32mc:\\Users\\ryeon\\AppData\\Local\\Programs\\Python\\Python310\\lib\\site-packages\\langchain_core\\language_models\\chat_models.py:455\u001b[0m, in \u001b[0;36mBaseChatModel._get_llm_string\u001b[1;34m(self, stop, **kwargs)\u001b[0m\n\u001b[0;32m    <a href='file:///c%3A/Users/ryeon/AppData/Local/Programs/Python/Python310/lib/site-packages/langchain_core/language_models/chat_models.py?line=451'>452</a>\u001b[0m \u001b[39m# This code is not super efficient as it goes back and forth between\u001b[39;00m\n\u001b[0;32m    <a href='file:///c%3A/Users/ryeon/AppData/Local/Programs/Python/Python310/lib/site-packages/langchain_core/language_models/chat_models.py?line=452'>453</a>\u001b[0m \u001b[39m# json and dict.\u001b[39;00m\n\u001b[0;32m    <a href='file:///c%3A/Users/ryeon/AppData/Local/Programs/Python/Python310/lib/site-packages/langchain_core/language_models/chat_models.py?line=453'>454</a>\u001b[0m serialized_repr \u001b[39m=\u001b[39m dumpd(\u001b[39mself\u001b[39m)\n\u001b[1;32m--> <a href='file:///c%3A/Users/ryeon/AppData/Local/Programs/Python/Python310/lib/site-packages/langchain_core/language_models/chat_models.py?line=454'>455</a>\u001b[0m _cleanup_llm_representation(serialized_repr, \u001b[39m1\u001b[39;49m)\n\u001b[0;32m    <a href='file:///c%3A/Users/ryeon/AppData/Local/Programs/Python/Python310/lib/site-packages/langchain_core/language_models/chat_models.py?line=455'>456</a>\u001b[0m llm_string \u001b[39m=\u001b[39m json\u001b[39m.\u001b[39mdumps(serialized_repr, sort_keys\u001b[39m=\u001b[39m\u001b[39mTrue\u001b[39;00m)\n\u001b[0;32m    <a href='file:///c%3A/Users/ryeon/AppData/Local/Programs/Python/Python310/lib/site-packages/langchain_core/language_models/chat_models.py?line=456'>457</a>\u001b[0m \u001b[39mreturn\u001b[39;00m llm_string \u001b[39m+\u001b[39m \u001b[39m\"\u001b[39m\u001b[39m---\u001b[39m\u001b[39m\"\u001b[39m \u001b[39m+\u001b[39m param_string\n",
      "File \u001b[1;32mc:\\Users\\ryeon\\AppData\\Local\\Programs\\Python\\Python310\\lib\\site-packages\\langchain_core\\language_models\\chat_models.py:1239\u001b[0m, in \u001b[0;36m_cleanup_llm_representation\u001b[1;34m(serialized, depth)\u001b[0m\n\u001b[0;32m   <a href='file:///c%3A/Users/ryeon/AppData/Local/Programs/Python/Python310/lib/site-packages/langchain_core/language_models/chat_models.py?line=1235'>1236</a>\u001b[0m kwargs \u001b[39m=\u001b[39m serialized[\u001b[39m\"\u001b[39m\u001b[39mkwargs\u001b[39m\u001b[39m\"\u001b[39m]\n\u001b[0;32m   <a href='file:///c%3A/Users/ryeon/AppData/Local/Programs/Python/Python310/lib/site-packages/langchain_core/language_models/chat_models.py?line=1237'>1238</a>\u001b[0m \u001b[39mfor\u001b[39;00m value \u001b[39min\u001b[39;00m kwargs\u001b[39m.\u001b[39mvalues():\n\u001b[1;32m-> <a href='file:///c%3A/Users/ryeon/AppData/Local/Programs/Python/Python310/lib/site-packages/langchain_core/language_models/chat_models.py?line=1238'>1239</a>\u001b[0m     _cleanup_llm_representation(value, depth \u001b[39m+\u001b[39;49m \u001b[39m1\u001b[39;49m)\n",
      "File \u001b[1;32mc:\\Users\\ryeon\\AppData\\Local\\Programs\\Python\\Python310\\lib\\site-packages\\langchain_core\\language_models\\chat_models.py:1229\u001b[0m, in \u001b[0;36m_cleanup_llm_representation\u001b[1;34m(serialized, depth)\u001b[0m\n\u001b[0;32m   <a href='file:///c%3A/Users/ryeon/AppData/Local/Programs/Python/Python310/lib/site-packages/langchain_core/language_models/chat_models.py?line=1226'>1227</a>\u001b[0m \u001b[39mif\u001b[39;00m depth \u001b[39m>\u001b[39m \u001b[39m100\u001b[39m:  \u001b[39m# Don't cooperate for pathological cases\u001b[39;00m\n\u001b[0;32m   <a href='file:///c%3A/Users/ryeon/AppData/Local/Programs/Python/Python310/lib/site-packages/langchain_core/language_models/chat_models.py?line=1227'>1228</a>\u001b[0m     \u001b[39mreturn\u001b[39;00m\n\u001b[1;32m-> <a href='file:///c%3A/Users/ryeon/AppData/Local/Programs/Python/Python310/lib/site-packages/langchain_core/language_models/chat_models.py?line=1228'>1229</a>\u001b[0m \u001b[39mif\u001b[39;00m serialized[\u001b[39m\"\u001b[39;49m\u001b[39mtype\u001b[39;49m\u001b[39m\"\u001b[39;49m] \u001b[39m==\u001b[39m \u001b[39m\"\u001b[39m\u001b[39mnot_implemented\u001b[39m\u001b[39m\"\u001b[39m \u001b[39mand\u001b[39;00m \u001b[39m\"\u001b[39m\u001b[39mrepr\u001b[39m\u001b[39m\"\u001b[39m \u001b[39min\u001b[39;00m serialized:\n\u001b[0;32m   <a href='file:///c%3A/Users/ryeon/AppData/Local/Programs/Python/Python310/lib/site-packages/langchain_core/language_models/chat_models.py?line=1229'>1230</a>\u001b[0m     \u001b[39mdel\u001b[39;00m serialized[\u001b[39m\"\u001b[39m\u001b[39mrepr\u001b[39m\u001b[39m\"\u001b[39m]\n\u001b[0;32m   <a href='file:///c%3A/Users/ryeon/AppData/Local/Programs/Python/Python310/lib/site-packages/langchain_core/language_models/chat_models.py?line=1231'>1232</a>\u001b[0m \u001b[39mif\u001b[39;00m \u001b[39m\"\u001b[39m\u001b[39mgraph\u001b[39m\u001b[39m\"\u001b[39m \u001b[39min\u001b[39;00m serialized:\n",
      "\u001b[1;31mTypeError\u001b[0m: string indices must be integers"
     ]
    }
   ],
   "source": [
    "with get_openai_callback() as cb:\n",
    "    result = llm.invoke(\"대한민국의 수도는 어디야?\")\n",
    "    print(cb)"
   ]
  },
  {
   "cell_type": "code",
   "execution_count": null,
   "metadata": {},
   "outputs": [],
   "source": [
    "with get_openai_callback() as cb:\n",
    "    result = llm.invoke(\"대한민국의 수도는 어디야?\")\n",
    "    result = llm.invoke(\"대한민국의 수도는 어디야?\")\n",
    "    print(f\"총 사용된 토큰수: \\t\\t{cb.total_tokens}\")\n",
    "    print(f\"프롬프트에 사용된 토큰수: \\t{cb.prompt_tokens}\")\n",
    "    print(f\"답변에 사용된 토큰수: \\t{cb.completion_tokens}\")\n",
    "    print(f\"호출에 청구된 금액(USD): \\t${cb.total_cost}\")"
   ]
  }
 ],
 "metadata": {
  "interpreter": {
   "hash": "a092fd226f6fc88450915dcb73abf6d49f4bd6515daca38907c3a18dfe5f9dd0"
  },
  "kernelspec": {
   "display_name": "Python 3.10.6 64-bit",
   "language": "python",
   "name": "python3"
  },
  "language_info": {
   "codemirror_mode": {
    "name": "ipython",
    "version": 3
   },
   "file_extension": ".py",
   "mimetype": "text/x-python",
   "name": "python",
   "nbconvert_exporter": "python",
   "pygments_lexer": "ipython3",
   "version": "3.10.6"
  },
  "orig_nbformat": 4
 },
 "nbformat": 4,
 "nbformat_minor": 2
}
