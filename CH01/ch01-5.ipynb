{
 "cells": [
  {
   "cell_type": "code",
   "execution_count": 1,
   "metadata": {},
   "outputs": [
    {
     "data": {
      "text/plain": [
       "True"
      ]
     },
     "execution_count": 1,
     "metadata": {},
     "output_type": "execute_result"
    }
   ],
   "source": [
    "from dotenv import load_dotenv\n",
    "\n",
    "# API KEY 정보로드\n",
    "load_dotenv()"
   ]
  },
  {
   "cell_type": "code",
   "execution_count": 2,
   "metadata": {},
   "outputs": [
    {
     "name": "stdout",
     "output_type": "stream",
     "text": [
      "LangSmith 추적을 시작합니다.\n",
      "[프로젝트명]\n",
      "CH01-Basic\n"
     ]
    }
   ],
   "source": [
    "from langchain_teddynote import logging\n",
    "\n",
    "# 프로젝트 이름을 입력합니다.\n",
    "logging.langsmith(\"CH01-Basic\")"
   ]
  },
  {
   "cell_type": "code",
   "execution_count": 7,
   "metadata": {},
   "outputs": [],
   "source": [
    "from langchain_openai import ChatOpenAI\n",
    "from langchain_core.prompts import PromptTemplate\n",
    "from langchain_core.output_parsers import StrOutputParser\n",
    "\n",
    "model = ChatOpenAI(\n",
    "    model=\"gpt-3.5-turbo\",\n",
    ")\n",
    "\n",
    "prompt = PromptTemplate.from_template(\"{topic} 에 대하여 3문장으로 설명해줘.\")\n",
    "\n",
    "chain = prompt | model | StrOutputParser()"
   ]
  },
  {
   "cell_type": "code",
   "execution_count": 5,
   "metadata": {},
   "outputs": [
    {
     "name": "stdout",
     "output_type": "stream",
     "text": [
      "멀티모달은 여러 가지 다양한 형태의 커뮤니케이션 방식을 결합하여 사용자 경험을 향상시키는 기술이다. 예를 들어 음성, 텍스트, 그래픽, 동영상 등 다양한 매체를 활용하여 사용자와 상호작용한다. 멀티모달은 사용자가 편리하고 효율적으로 정보를 전달받을 수 있도록 돕는다."
     ]
    }
   ],
   "source": [
    "for token in chain.stream({\"topic\": \"멀티모달\"}):\n",
    "    print(token, end=\"\", flush=True)"
   ]
  },
  {
   "cell_type": "code",
   "execution_count": 6,
   "metadata": {},
   "outputs": [
    {
     "data": {
      "text/plain": [
       "'ChatGPT는 인공지능 챗봇으로 자연어 처리 기술을 사용하여 대화를 이어가는 기능을 제공합니다. 사용자와 자연스럽게 상호작용하며 질문에 대한 답변을 제공하고 다양한 주제에 대해 대화할 수 있습니다. ChatGPT는 챗봇, 가이드, 비서 역할을 수행하여 사용자들에게 편리한 정보 및 서비스를 제공합니다.'"
      ]
     },
     "execution_count": 6,
     "metadata": {},
     "output_type": "execute_result"
    }
   ],
   "source": [
    "chain.invoke({\"topic\": \"ChatGPT\"})"
   ]
  },
  {
   "cell_type": "code",
   "execution_count": 9,
   "metadata": {},
   "outputs": [
    {
     "data": {
      "text/plain": [
       "['ChatGPT는 인공지능 챗봇으로 자연어 처리를 사용하여 대화를 이어나가는 기술을 제공합니다. 이를 통해 사용자와 자연스럽게 소통하며 다양한 주제에 대해 대화할 수 있습니다. ChatGPT는 학습을 통해 계속 발전하며 높은 수준의 대화 능력을 갖추고 있습니다.',\n",
       " 'Instagram은 사진과 동영상을 공유하는 소셜 미디어 플랫폼으로, 사용자들은 자신의 일상을 공유하고 다른 사람들의 콘텐츠를 감상할 수 있습니다. 해시태그를 통해 관심사에 맞는 게시물을 검색하고 팔로우를 통해 좋아하는 계정을 구독할 수 있습니다. 또한 스토리 기능을 통해 임시적인 콘텐츠를 공유하고 소통할 수 있습니다.']"
      ]
     },
     "execution_count": 9,
     "metadata": {},
     "output_type": "execute_result"
    }
   ],
   "source": [
    "chain.batch([{\"topic\": \"ChatGPT\"}, {\"topic\":\"Instagram\"}])"
   ]
  },
  {
   "cell_type": "code",
   "execution_count": 10,
   "metadata": {},
   "outputs": [
    {
     "data": {
      "text/plain": [
       "['ChatGPT는 인공지능 챗봇으로 자연어 처리 기술을 활용해 대화 상대와 대화하는 데 사용됩니다. 사용자의 질문에 대답하거나 대화를 이끌어가는 역할을 합니다. 다양한 주제에 대해 대화할 수 있으며, 학습을 통해 더 많은 정보를 습득하고 더 자연스러운 대화를 제공합니다.',\n",
       " 'Instagram은 사진과 동영상을 공유하는 소셜 미디어 플랫폼으로, 사용자들은 다양한 필터와 효과를 통해 자신의 콘텐츠를 꾸밀 수 있습니다. 또한 해시태그를 통해 관심 주제별로 콘텐츠를 찾아볼 수 있고, 팔로워와 소통을 통해 커뮤니티를 형성할 수 있습니다. 인플루언서나 브랜드들도 활발히 활동하여 상품 홍보나 광고 등을 진행하고 있습니다.',\n",
       " '멀티모달은 여러가지 다른 형태의 매체를 결합하여 정보를 전달하거나 상호작용하는 것을 의미합니다. 예를 들어 음성, 텍스트, 그림, 동영상 등 다양한 매체를 활용하여 사용자에게 풍부한 경험을 제공할 수 있습니다. 멀티모달은 사용자들에게 다양한 선택지를 제공하고, 정보를 보다 효과적으로 전달할 수 있는 현대적인 방법 중 하나입니다.',\n",
       " '프로그래밍은 컴퓨터에게 실행할 일련의 명령을 작성하는 과정입니다. 이를 통해 사용자의 요구에 맞게 원하는 기능을 구현할 수 있습니다. 프로그래밍 언어를 사용하여 문제를 해결하고 프로그램을 개발하는 것이 프로그래밍의 핵심입니다.',\n",
       " '머신러닝은 컴퓨터가 데이터를 분석해서 패턴을 학습하고 예측하는 기술입니다. 이를 통해 인공지능 시스템이 스스로 문제를 해결하고 최적의 결정을 내릴 수 있습니다. 머신러닝은 다양한 분야에서 활용되며, 빅데이터와 함께 혁신적인 기술과 서비스를 제공하고 있습니다.']"
      ]
     },
     "execution_count": 10,
     "metadata": {},
     "output_type": "execute_result"
    }
   ],
   "source": [
    "chain.batch(\n",
    "    [\n",
    "        {\"topic\": \"ChatGPT\"},\n",
    "        {\"topic\": \"Instagram\"},\n",
    "        {\"topic\": \"멀티모달\"},\n",
    "        {\"topic\": \"프로그래밍\"},\n",
    "        {\"topic\": \"머신러닝\"},\n",
    "    ],\n",
    "    config={\"max_concurrency\": 3},\n",
    ")"
   ]
  },
  {
   "cell_type": "code",
   "execution_count": 12,
   "metadata": {},
   "outputs": [
    {
     "name": "stdout",
     "output_type": "stream",
     "text": [
      "YouTube는 동영상 공유 플랫폼으로, 온라인에서 다양한 콘텐츠를 시청하고 업로드할 수 있는 서비스이다. 사용자는 뮤직 비디오, 블로그, 게임 플레이, 리뷰 등 다양한 주제의 동영상을 즐길 수 있다. 또한, 유명한 유튜버들이 활동하는 플랫폼으로, 개인 브랜드 및 콘텐츠 제작자들이 수익을 창출할 수 있는 수단이기도 하다."
     ]
    }
   ],
   "source": [
    "async for token in chain.astream({\"topic\": \"YouTube\"}):\n",
    "    print(token, end=\"\", flush=True)"
   ]
  },
  {
   "cell_type": "code",
   "execution_count": 13,
   "metadata": {},
   "outputs": [
    {
     "data": {
      "text/plain": [
       "'NVDA는 NVIDIA Corporation의 주식 심볼로, 미국의 그래픽 처리 장치 및 인공지능 기술 분야에서 세계적으로 유명한 기업이다. 주로 게임 그래픽 카드로 유명하지만, 최근에는 자율 주행차 및 데이터 센터 분야에서도 기술력을 발휘하고 있다. 주가는 기술 산업의 성장세와 관련된 뉴스에 따라 변동되는 경향이 있다.'"
      ]
     },
     "execution_count": 13,
     "metadata": {},
     "output_type": "execute_result"
    }
   ],
   "source": [
    "#비동기 체인 객체의 ainvoke 메서드를 호출, NVDA 토픽을 처리 \n",
    "\n",
    "my_process = chain.ainvoke({\"topic\": \"NVDA\"})\n",
    "await my_process"
   ]
  },
  {
   "cell_type": "code",
   "execution_count": 14,
   "metadata": {},
   "outputs": [
    {
     "data": {
      "text/plain": [
       "['YouTube는 동영상 공유 플랫폼으로, 사용자들이 다양한 주제의 동영상을 업로드하고 시청할 수 있는 서비스이다. 유튜브를 통해 사용자는 영상을 시청하고 댓글을 남기며 소통할 수 있으며, 구독을 통해 즐겨보는 채널을 관리할 수 있다. 유튜브는 광고 수익과 더불어 크리에이터들에게 수익 창출의 기회를 제공하고, 다양한 콘텐츠를 생산하고 공유할 수 있는 플랫폼이다.',\n",
       " '인스타그램은 사진과 동영상을 공유할 수 있는 소셜 미디어 플랫폼이다. 다양한 필터와 편집 기능을 제공하여 사용자들이 자신만의 콘텐츠를 만들 수 있도록 돕는다. 팔로우, 좋아요, 해시태그 등 다양한 기능을 통해 사용자들과 소통할 수 있다.',\n",
       " 'Facebook은 전 세계적으로 가장 인기 있는 소셜 네트워크 서비스 중 하나로, 사용자들이 친구들과 가족들과 소통하고 소셜 미디어 콘텐츠를 공유할 수 있는 플랫폼이다.\\n\\n사용자들은 개인 프로필을 만들고 사진, 동영상, 상태 업데이트 등을 게시하여 다른 사람들과 소통하며 이를 통해 네트워크를 확장할 수 있다.\\n\\n또한 Facebook은 광고 플랫폼으로도 활발하게 사용되어 기업들이 제품이나 서비스를 홍보하고 고객과 소통하는데 이용된다.']"
      ]
     },
     "execution_count": 14,
     "metadata": {},
     "output_type": "execute_result"
    }
   ],
   "source": [
    "my_abatch_process= chain.abatch(\n",
    "    [{\"topic\": \"YouTube\"},\n",
    "     {\"topic\": \"Instagram\"},\n",
    "     {\"topic\": \"Facebook\"}\n",
    "     ]\n",
    ")\n",
    "\n",
    "await my_abatch_process"
   ]
  },
  {
   "cell_type": "code",
   "execution_count": 15,
   "metadata": {},
   "outputs": [],
   "source": [
    "from langchain_core.runnables import RunnableParallel\n",
    "\n",
    "chain1 = (\n",
    "    PromptTemplate.from_template(\"{country}의 수도는 어디야?\")\n",
    "    | model\n",
    "    | StrOutputParser()\n",
    ")\n",
    "\n",
    "chain2 = (\n",
    "    PromptTemplate.from_template(\"{country} 의 면적은 얼마야?\")\n",
    "    | model\n",
    "    | StrOutputParser()\n",
    ")\n",
    "\n",
    "combined = RunnableParallel(capital = chain1, area=chain2)\n"
   ]
  },
  {
   "cell_type": "code",
   "execution_count": 16,
   "metadata": {},
   "outputs": [
    {
     "data": {
      "text/plain": [
       "'대한민국의 수도는 서울이다.'"
      ]
     },
     "execution_count": 16,
     "metadata": {},
     "output_type": "execute_result"
    }
   ],
   "source": [
    "chain1.invoke({\"country\": \"대한민국\"})"
   ]
  },
  {
   "cell_type": "code",
   "execution_count": 17,
   "metadata": {},
   "outputs": [
    {
     "data": {
      "text/plain": [
       "'미국의 면적은 대략 9,833,520 제곱 킬로미터 입니다.'"
      ]
     },
     "execution_count": 17,
     "metadata": {},
     "output_type": "execute_result"
    }
   ],
   "source": [
    "chain2.invoke({\"country\": \"미국\"})"
   ]
  },
  {
   "cell_type": "code",
   "execution_count": 18,
   "metadata": {},
   "outputs": [
    {
     "data": {
      "text/plain": [
       "{'capital': '대한민국의 수도는 서울이야.', 'area': '대한민국의 총 면적은 약 100,363 제곱 킬로미터입니다.'}"
      ]
     },
     "execution_count": 18,
     "metadata": {},
     "output_type": "execute_result"
    }
   ],
   "source": [
    "combined.invoke({\"country\": \"대한민국\"})"
   ]
  },
  {
   "cell_type": "code",
   "execution_count": 19,
   "metadata": {},
   "outputs": [
    {
     "data": {
      "text/plain": [
       "['서울이야.', '미국의 수도는 워싱턴 D.C.입니다.']"
      ]
     },
     "execution_count": 19,
     "metadata": {},
     "output_type": "execute_result"
    }
   ],
   "source": [
    "chain1.batch([{\"country\": \"대한민국\"}, {\"country\": \"미국\"}])"
   ]
  },
  {
   "cell_type": "code",
   "execution_count": 20,
   "metadata": {},
   "outputs": [
    {
     "data": {
      "text/plain": [
       "['대한민국의 총 면적은 약 100,363.4km² 입니다.', '미국의 면적은 약 9,833,520 km² 입니다.']"
      ]
     },
     "execution_count": 20,
     "metadata": {},
     "output_type": "execute_result"
    }
   ],
   "source": [
    "chain2.batch([{\"country\": \"대한민국\"}, {\"country\": \"미국\"}])"
   ]
  },
  {
   "cell_type": "code",
   "execution_count": 21,
   "metadata": {},
   "outputs": [
    {
     "data": {
      "text/plain": [
       "[{'capital': '대한민국의 수도는 서울이야.', 'area': '대한민국의 면적은 약 100,363제곱킬로미터입니다.'},\n",
       " {'capital': '미국의 수도는 워싱턴 D.C.입니다.', 'area': '미국의 면적은 약 9,833,520 km² 입니다.'}]"
      ]
     },
     "execution_count": 21,
     "metadata": {},
     "output_type": "execute_result"
    }
   ],
   "source": [
    "combined.batch([{\"country\": \"대한민국\"}, {\"country\": \"미국\"}])"
   ]
  },
  {
   "cell_type": "code",
   "execution_count": 22,
   "metadata": {},
   "outputs": [
    {
     "name": "stdout",
     "output_type": "stream",
     "text": [
      "LangSmith 추적을 하지 않습니다.\n"
     ]
    }
   ],
   "source": [
    "logging.langsmith(\"CH01-Basic\", set_enable=False)"
   ]
  }
 ],
 "metadata": {
  "interpreter": {
   "hash": "a092fd226f6fc88450915dcb73abf6d49f4bd6515daca38907c3a18dfe5f9dd0"
  },
  "kernelspec": {
   "display_name": "Python 3.10.6 64-bit",
   "language": "python",
   "name": "python3"
  },
  "language_info": {
   "codemirror_mode": {
    "name": "ipython",
    "version": 3
   },
   "file_extension": ".py",
   "mimetype": "text/x-python",
   "name": "python",
   "nbconvert_exporter": "python",
   "pygments_lexer": "ipython3",
   "version": "3.10.6"
  },
  "orig_nbformat": 4
 },
 "nbformat": 4,
 "nbformat_minor": 2
}
